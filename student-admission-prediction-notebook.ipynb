{
 "cells": [
  {
   "cell_type": "code",
   "execution_count": 1,
   "id": "5f6166e4",
   "metadata": {
    "_cell_guid": "b1076dfc-b9ad-4769-8c92-a6c4dae69d19",
    "_uuid": "8f2839f25d086af736a60e9eeb907d3b93b6e0e5",
    "execution": {
     "iopub.execute_input": "2022-07-02T06:36:10.875684Z",
     "iopub.status.busy": "2022-07-02T06:36:10.875053Z",
     "iopub.status.idle": "2022-07-02T06:36:10.902045Z",
     "shell.execute_reply": "2022-07-02T06:36:10.900795Z"
    },
    "papermill": {
     "duration": 0.044347,
     "end_time": "2022-07-02T06:36:10.905547",
     "exception": false,
     "start_time": "2022-07-02T06:36:10.861200",
     "status": "completed"
    },
    "tags": []
   },
   "outputs": [
    {
     "name": "stdout",
     "output_type": "stream",
     "text": [
      "/kaggle/input/graduates-admission-prediction/admission_data.csv\n"
     ]
    }
   ],
   "source": [
    "# This Python 3 environment comes with many helpful analytics libraries installed\n",
    "# It is defined by the kaggle/python Docker image: https://github.com/kaggle/docker-python\n",
    "# For example, here's several helpful packages to load\n",
    "\n",
    "import numpy as np # linear algebra\n",
    "import pandas as pd # data processing, CSV file I/O (e.g. pd.read_csv)\n",
    "\n",
    "# Input data files are available in the read-only \"../input/\" directory\n",
    "# For example, running this (by clicking run or pressing Shift+Enter) will list all files under the input directory\n",
    "\n",
    "import os\n",
    "for dirname, _, filenames in os.walk('/kaggle/input'):\n",
    "    for filename in filenames:\n",
    "        print(os.path.join(dirname, filename))\n",
    "\n",
    "# You can write up to 20GB to the current directory (/kaggle/working/) that gets preserved as output when you create a version using \"Save & Run All\" \n",
    "# You can also write temporary files to /kaggle/temp/, but they won't be saved outside of the current session"
   ]
  },
  {
   "cell_type": "code",
   "execution_count": 2,
   "id": "dc5ffa80",
   "metadata": {
    "execution": {
     "iopub.execute_input": "2022-07-02T06:36:10.934826Z",
     "iopub.status.busy": "2022-07-02T06:36:10.934417Z",
     "iopub.status.idle": "2022-07-02T06:36:11.969173Z",
     "shell.execute_reply": "2022-07-02T06:36:11.968182Z"
    },
    "papermill": {
     "duration": 1.051601,
     "end_time": "2022-07-02T06:36:11.972416",
     "exception": false,
     "start_time": "2022-07-02T06:36:10.920815",
     "status": "completed"
    },
    "tags": []
   },
   "outputs": [],
   "source": [
    "import matplotlib.pyplot as plt\n",
    "import seaborn as sns"
   ]
  },
  {
   "cell_type": "markdown",
   "id": "6159d088",
   "metadata": {
    "papermill": {
     "duration": 0.013392,
     "end_time": "2022-07-02T06:36:12.003406",
     "exception": false,
     "start_time": "2022-07-02T06:36:11.990014",
     "status": "completed"
    },
    "tags": []
   },
   "source": [
    "# Let's Explore the data"
   ]
  },
  {
   "cell_type": "code",
   "execution_count": 3,
   "id": "18e7e56f",
   "metadata": {
    "execution": {
     "iopub.execute_input": "2022-07-02T06:36:12.027604Z",
     "iopub.status.busy": "2022-07-02T06:36:12.027039Z",
     "iopub.status.idle": "2022-07-02T06:36:12.070292Z",
     "shell.execute_reply": "2022-07-02T06:36:12.069131Z"
    },
    "papermill": {
     "duration": 0.05893,
     "end_time": "2022-07-02T06:36:12.072828",
     "exception": false,
     "start_time": "2022-07-02T06:36:12.013898",
     "status": "completed"
    },
    "tags": []
   },
   "outputs": [
    {
     "data": {
      "text/html": [
       "<div>\n",
       "<style scoped>\n",
       "    .dataframe tbody tr th:only-of-type {\n",
       "        vertical-align: middle;\n",
       "    }\n",
       "\n",
       "    .dataframe tbody tr th {\n",
       "        vertical-align: top;\n",
       "    }\n",
       "\n",
       "    .dataframe thead th {\n",
       "        text-align: right;\n",
       "    }\n",
       "</style>\n",
       "<table border=\"1\" class=\"dataframe\">\n",
       "  <thead>\n",
       "    <tr style=\"text-align: right;\">\n",
       "      <th></th>\n",
       "      <th>GRE Score</th>\n",
       "      <th>TOEFL Score</th>\n",
       "      <th>University Rating</th>\n",
       "      <th>SOP</th>\n",
       "      <th>LOR</th>\n",
       "      <th>CGPA</th>\n",
       "      <th>Research</th>\n",
       "      <th>Chance of Admit</th>\n",
       "    </tr>\n",
       "  </thead>\n",
       "  <tbody>\n",
       "    <tr>\n",
       "      <th>0</th>\n",
       "      <td>337</td>\n",
       "      <td>118</td>\n",
       "      <td>4</td>\n",
       "      <td>4.5</td>\n",
       "      <td>4.5</td>\n",
       "      <td>9.65</td>\n",
       "      <td>1</td>\n",
       "      <td>0.92</td>\n",
       "    </tr>\n",
       "    <tr>\n",
       "      <th>1</th>\n",
       "      <td>324</td>\n",
       "      <td>107</td>\n",
       "      <td>4</td>\n",
       "      <td>4.0</td>\n",
       "      <td>4.5</td>\n",
       "      <td>8.87</td>\n",
       "      <td>1</td>\n",
       "      <td>0.76</td>\n",
       "    </tr>\n",
       "    <tr>\n",
       "      <th>2</th>\n",
       "      <td>316</td>\n",
       "      <td>104</td>\n",
       "      <td>3</td>\n",
       "      <td>3.0</td>\n",
       "      <td>3.5</td>\n",
       "      <td>8.00</td>\n",
       "      <td>1</td>\n",
       "      <td>0.72</td>\n",
       "    </tr>\n",
       "    <tr>\n",
       "      <th>3</th>\n",
       "      <td>322</td>\n",
       "      <td>110</td>\n",
       "      <td>3</td>\n",
       "      <td>3.5</td>\n",
       "      <td>2.5</td>\n",
       "      <td>8.67</td>\n",
       "      <td>1</td>\n",
       "      <td>0.80</td>\n",
       "    </tr>\n",
       "    <tr>\n",
       "      <th>4</th>\n",
       "      <td>314</td>\n",
       "      <td>103</td>\n",
       "      <td>2</td>\n",
       "      <td>2.0</td>\n",
       "      <td>3.0</td>\n",
       "      <td>8.21</td>\n",
       "      <td>0</td>\n",
       "      <td>0.65</td>\n",
       "    </tr>\n",
       "  </tbody>\n",
       "</table>\n",
       "</div>"
      ],
      "text/plain": [
       "   GRE Score  TOEFL Score  University Rating  SOP  LOR   CGPA  Research  \\\n",
       "0        337          118                  4  4.5   4.5  9.65         1   \n",
       "1        324          107                  4  4.0   4.5  8.87         1   \n",
       "2        316          104                  3  3.0   3.5  8.00         1   \n",
       "3        322          110                  3  3.5   2.5  8.67         1   \n",
       "4        314          103                  2  2.0   3.0  8.21         0   \n",
       "\n",
       "   Chance of Admit   \n",
       "0              0.92  \n",
       "1              0.76  \n",
       "2              0.72  \n",
       "3              0.80  \n",
       "4              0.65  "
      ]
     },
     "execution_count": 3,
     "metadata": {},
     "output_type": "execute_result"
    }
   ],
   "source": [
    "df = pd.read_csv('/kaggle/input/graduates-admission-prediction/admission_data.csv')\n",
    "df.head()"
   ]
  },
  {
   "cell_type": "code",
   "execution_count": 4,
   "id": "8eca319f",
   "metadata": {
    "execution": {
     "iopub.execute_input": "2022-07-02T06:36:12.094852Z",
     "iopub.status.busy": "2022-07-02T06:36:12.094245Z",
     "iopub.status.idle": "2022-07-02T06:36:12.101785Z",
     "shell.execute_reply": "2022-07-02T06:36:12.100653Z"
    },
    "papermill": {
     "duration": 0.021218,
     "end_time": "2022-07-02T06:36:12.104126",
     "exception": false,
     "start_time": "2022-07-02T06:36:12.082908",
     "status": "completed"
    },
    "tags": []
   },
   "outputs": [
    {
     "data": {
      "text/plain": [
       "Index(['GRE Score', 'TOEFL Score', 'University Rating', 'SOP', 'LOR ', 'CGPA',\n",
       "       'Research', 'Chance of Admit '],\n",
       "      dtype='object')"
      ]
     },
     "execution_count": 4,
     "metadata": {},
     "output_type": "execute_result"
    }
   ],
   "source": [
    "df.columns"
   ]
  },
  {
   "cell_type": "code",
   "execution_count": 5,
   "id": "b3e9ac1e",
   "metadata": {
    "execution": {
     "iopub.execute_input": "2022-07-02T06:36:12.127064Z",
     "iopub.status.busy": "2022-07-02T06:36:12.126323Z",
     "iopub.status.idle": "2022-07-02T06:36:12.135216Z",
     "shell.execute_reply": "2022-07-02T06:36:12.134037Z"
    },
    "papermill": {
     "duration": 0.023262,
     "end_time": "2022-07-02T06:36:12.137595",
     "exception": false,
     "start_time": "2022-07-02T06:36:12.114333",
     "status": "completed"
    },
    "tags": []
   },
   "outputs": [],
   "source": [
    "#Let's rename few columns\n",
    "df.rename(columns = {'GRE Score':'GRE_Score', 'TOEFL Score':'TOEFL_Score', 'University Rating':'University_Rating'}, inplace = True)"
   ]
  },
  {
   "cell_type": "code",
   "execution_count": 6,
   "id": "e24cd7ba",
   "metadata": {
    "execution": {
     "iopub.execute_input": "2022-07-02T06:36:12.159886Z",
     "iopub.status.busy": "2022-07-02T06:36:12.159178Z",
     "iopub.status.idle": "2022-07-02T06:36:12.166458Z",
     "shell.execute_reply": "2022-07-02T06:36:12.165472Z"
    },
    "papermill": {
     "duration": 0.020817,
     "end_time": "2022-07-02T06:36:12.168611",
     "exception": false,
     "start_time": "2022-07-02T06:36:12.147794",
     "status": "completed"
    },
    "tags": []
   },
   "outputs": [
    {
     "data": {
      "text/plain": [
       "Index(['GRE_Score', 'TOEFL_Score', 'University_Rating', 'SOP', 'LOR ', 'CGPA',\n",
       "       'Research', 'Chance of Admit '],\n",
       "      dtype='object')"
      ]
     },
     "execution_count": 6,
     "metadata": {},
     "output_type": "execute_result"
    }
   ],
   "source": [
    "df.columns"
   ]
  },
  {
   "cell_type": "code",
   "execution_count": 7,
   "id": "d649588d",
   "metadata": {
    "execution": {
     "iopub.execute_input": "2022-07-02T06:36:12.190923Z",
     "iopub.status.busy": "2022-07-02T06:36:12.190292Z",
     "iopub.status.idle": "2022-07-02T06:36:12.235093Z",
     "shell.execute_reply": "2022-07-02T06:36:12.234177Z"
    },
    "papermill": {
     "duration": 0.058534,
     "end_time": "2022-07-02T06:36:12.237310",
     "exception": false,
     "start_time": "2022-07-02T06:36:12.178776",
     "status": "completed"
    },
    "tags": []
   },
   "outputs": [
    {
     "data": {
      "text/html": [
       "<div>\n",
       "<style scoped>\n",
       "    .dataframe tbody tr th:only-of-type {\n",
       "        vertical-align: middle;\n",
       "    }\n",
       "\n",
       "    .dataframe tbody tr th {\n",
       "        vertical-align: top;\n",
       "    }\n",
       "\n",
       "    .dataframe thead th {\n",
       "        text-align: right;\n",
       "    }\n",
       "</style>\n",
       "<table border=\"1\" class=\"dataframe\">\n",
       "  <thead>\n",
       "    <tr style=\"text-align: right;\">\n",
       "      <th></th>\n",
       "      <th>GRE_Score</th>\n",
       "      <th>TOEFL_Score</th>\n",
       "      <th>University_Rating</th>\n",
       "      <th>SOP</th>\n",
       "      <th>LOR</th>\n",
       "      <th>CGPA</th>\n",
       "      <th>Research</th>\n",
       "      <th>Chance of Admit</th>\n",
       "    </tr>\n",
       "  </thead>\n",
       "  <tbody>\n",
       "    <tr>\n",
       "      <th>count</th>\n",
       "      <td>500.000000</td>\n",
       "      <td>500.000000</td>\n",
       "      <td>500.000000</td>\n",
       "      <td>500.000000</td>\n",
       "      <td>500.00000</td>\n",
       "      <td>500.000000</td>\n",
       "      <td>500.000000</td>\n",
       "      <td>500.00000</td>\n",
       "    </tr>\n",
       "    <tr>\n",
       "      <th>mean</th>\n",
       "      <td>316.472000</td>\n",
       "      <td>107.192000</td>\n",
       "      <td>3.114000</td>\n",
       "      <td>3.374000</td>\n",
       "      <td>3.48400</td>\n",
       "      <td>8.576440</td>\n",
       "      <td>0.560000</td>\n",
       "      <td>0.72174</td>\n",
       "    </tr>\n",
       "    <tr>\n",
       "      <th>std</th>\n",
       "      <td>11.295148</td>\n",
       "      <td>6.081868</td>\n",
       "      <td>1.143512</td>\n",
       "      <td>0.991004</td>\n",
       "      <td>0.92545</td>\n",
       "      <td>0.604813</td>\n",
       "      <td>0.496884</td>\n",
       "      <td>0.14114</td>\n",
       "    </tr>\n",
       "    <tr>\n",
       "      <th>min</th>\n",
       "      <td>290.000000</td>\n",
       "      <td>92.000000</td>\n",
       "      <td>1.000000</td>\n",
       "      <td>1.000000</td>\n",
       "      <td>1.00000</td>\n",
       "      <td>6.800000</td>\n",
       "      <td>0.000000</td>\n",
       "      <td>0.34000</td>\n",
       "    </tr>\n",
       "    <tr>\n",
       "      <th>25%</th>\n",
       "      <td>308.000000</td>\n",
       "      <td>103.000000</td>\n",
       "      <td>2.000000</td>\n",
       "      <td>2.500000</td>\n",
       "      <td>3.00000</td>\n",
       "      <td>8.127500</td>\n",
       "      <td>0.000000</td>\n",
       "      <td>0.63000</td>\n",
       "    </tr>\n",
       "    <tr>\n",
       "      <th>50%</th>\n",
       "      <td>317.000000</td>\n",
       "      <td>107.000000</td>\n",
       "      <td>3.000000</td>\n",
       "      <td>3.500000</td>\n",
       "      <td>3.50000</td>\n",
       "      <td>8.560000</td>\n",
       "      <td>1.000000</td>\n",
       "      <td>0.72000</td>\n",
       "    </tr>\n",
       "    <tr>\n",
       "      <th>75%</th>\n",
       "      <td>325.000000</td>\n",
       "      <td>112.000000</td>\n",
       "      <td>4.000000</td>\n",
       "      <td>4.000000</td>\n",
       "      <td>4.00000</td>\n",
       "      <td>9.040000</td>\n",
       "      <td>1.000000</td>\n",
       "      <td>0.82000</td>\n",
       "    </tr>\n",
       "    <tr>\n",
       "      <th>max</th>\n",
       "      <td>340.000000</td>\n",
       "      <td>120.000000</td>\n",
       "      <td>5.000000</td>\n",
       "      <td>5.000000</td>\n",
       "      <td>5.00000</td>\n",
       "      <td>9.920000</td>\n",
       "      <td>1.000000</td>\n",
       "      <td>0.97000</td>\n",
       "    </tr>\n",
       "  </tbody>\n",
       "</table>\n",
       "</div>"
      ],
      "text/plain": [
       "        GRE_Score  TOEFL_Score  University_Rating         SOP       LOR   \\\n",
       "count  500.000000   500.000000         500.000000  500.000000  500.00000   \n",
       "mean   316.472000   107.192000           3.114000    3.374000    3.48400   \n",
       "std     11.295148     6.081868           1.143512    0.991004    0.92545   \n",
       "min    290.000000    92.000000           1.000000    1.000000    1.00000   \n",
       "25%    308.000000   103.000000           2.000000    2.500000    3.00000   \n",
       "50%    317.000000   107.000000           3.000000    3.500000    3.50000   \n",
       "75%    325.000000   112.000000           4.000000    4.000000    4.00000   \n",
       "max    340.000000   120.000000           5.000000    5.000000    5.00000   \n",
       "\n",
       "             CGPA    Research  Chance of Admit   \n",
       "count  500.000000  500.000000         500.00000  \n",
       "mean     8.576440    0.560000           0.72174  \n",
       "std      0.604813    0.496884           0.14114  \n",
       "min      6.800000    0.000000           0.34000  \n",
       "25%      8.127500    0.000000           0.63000  \n",
       "50%      8.560000    1.000000           0.72000  \n",
       "75%      9.040000    1.000000           0.82000  \n",
       "max      9.920000    1.000000           0.97000  "
      ]
     },
     "execution_count": 7,
     "metadata": {},
     "output_type": "execute_result"
    }
   ],
   "source": [
    "df.describe()"
   ]
  },
  {
   "cell_type": "code",
   "execution_count": 8,
   "id": "744f83ce",
   "metadata": {
    "execution": {
     "iopub.execute_input": "2022-07-02T06:36:12.262060Z",
     "iopub.status.busy": "2022-07-02T06:36:12.261384Z",
     "iopub.status.idle": "2022-07-02T06:36:12.278159Z",
     "shell.execute_reply": "2022-07-02T06:36:12.276172Z"
    },
    "papermill": {
     "duration": 0.031563,
     "end_time": "2022-07-02T06:36:12.280651",
     "exception": false,
     "start_time": "2022-07-02T06:36:12.249088",
     "status": "completed"
    },
    "tags": []
   },
   "outputs": [
    {
     "name": "stdout",
     "output_type": "stream",
     "text": [
      "<class 'pandas.core.frame.DataFrame'>\n",
      "RangeIndex: 500 entries, 0 to 499\n",
      "Data columns (total 8 columns):\n",
      " #   Column             Non-Null Count  Dtype  \n",
      "---  ------             --------------  -----  \n",
      " 0   GRE_Score          500 non-null    int64  \n",
      " 1   TOEFL_Score        500 non-null    int64  \n",
      " 2   University_Rating  500 non-null    int64  \n",
      " 3   SOP                500 non-null    float64\n",
      " 4   LOR                500 non-null    float64\n",
      " 5   CGPA               500 non-null    float64\n",
      " 6   Research           500 non-null    int64  \n",
      " 7   Chance of Admit    500 non-null    float64\n",
      "dtypes: float64(4), int64(4)\n",
      "memory usage: 31.4 KB\n"
     ]
    }
   ],
   "source": [
    "df.info()"
   ]
  },
  {
   "cell_type": "code",
   "execution_count": 9,
   "id": "505d24bc",
   "metadata": {
    "execution": {
     "iopub.execute_input": "2022-07-02T06:36:12.304132Z",
     "iopub.status.busy": "2022-07-02T06:36:12.303344Z",
     "iopub.status.idle": "2022-07-02T06:36:12.637046Z",
     "shell.execute_reply": "2022-07-02T06:36:12.635587Z"
    },
    "papermill": {
     "duration": 0.349297,
     "end_time": "2022-07-02T06:36:12.640687",
     "exception": false,
     "start_time": "2022-07-02T06:36:12.291390",
     "status": "completed"
    },
    "tags": []
   },
   "outputs": [
    {
     "data": {
      "text/plain": [
       "<AxesSubplot:ylabel='Chance of Admit '>"
      ]
     },
     "execution_count": 9,
     "metadata": {},
     "output_type": "execute_result"
    },
    {
     "data": {
      "image/png": "[encoded data removed]",
      "text/plain": [
       "<Figure size 432x432 with 1 Axes>"
      ]
     },
     "metadata": {},
     "output_type": "display_data"
    }
   ],
   "source": [
    "#Exploring variables\n",
    "\n",
    "df['Chance of Admit '].value_counts().head(20).plot(kind = 'pie', figsize = (6,6))\n"
   ]
  },
  {
   "cell_type": "code",
   "execution_count": 10,
   "id": "16b30149",
   "metadata": {
    "execution": {
     "iopub.execute_input": "2022-07-02T06:36:12.678530Z",
     "iopub.status.busy": "2022-07-02T06:36:12.677877Z",
     "iopub.status.idle": "2022-07-02T06:36:12.924214Z",
     "shell.execute_reply": "2022-07-02T06:36:12.922970Z"
    },
    "papermill": {
     "duration": 0.264123,
     "end_time": "2022-07-02T06:36:12.926791",
     "exception": false,
     "start_time": "2022-07-02T06:36:12.662668",
     "status": "completed"
    },
    "tags": []
   },
   "outputs": [
    {
     "data": {
      "image/png": "[encoded data removed]",
      "text/plain": [
       "<Figure size 648x576 with 1 Axes>"
      ]
     },
     "metadata": {
      "needs_background": "light"
     },
     "output_type": "display_data"
    }
   ],
   "source": [
    "#Checking relation between Chances of admit and CGPA\n",
    "df.plot(x='Chance of Admit ', y='CGPA', kind=\"hist\", figsize=(9, 8), color = 'lightcoral')\n",
    "plt.show()"
   ]
  },
  {
   "cell_type": "code",
   "execution_count": 11,
   "id": "52f3ee39",
   "metadata": {
    "execution": {
     "iopub.execute_input": "2022-07-02T06:36:12.951689Z",
     "iopub.status.busy": "2022-07-02T06:36:12.951271Z",
     "iopub.status.idle": "2022-07-02T06:36:13.214321Z",
     "shell.execute_reply": "2022-07-02T06:36:13.213364Z"
    },
    "papermill": {
     "duration": 0.277824,
     "end_time": "2022-07-02T06:36:13.216477",
     "exception": false,
     "start_time": "2022-07-02T06:36:12.938653",
     "status": "completed"
    },
    "tags": []
   },
   "outputs": [
    {
     "data": {
      "image/png": "[encoded data removed]",
      "text/plain": [
       "<Figure size 648x576 with 1 Axes>"
      ]
     },
     "metadata": {
      "needs_background": "light"
     },
     "output_type": "display_data"
    }
   ],
   "source": [
    "#Checking relation between Chances of admit and SOP\n",
    "df.plot(x='Chance of Admit ', y='SOP', kind=\"hist\", figsize=(9, 8), color = 'olive')\n",
    "plt.show()"
   ]
  },
  {
   "cell_type": "markdown",
   "id": "fc7943a9",
   "metadata": {
    "papermill": {
     "duration": 0.011284,
     "end_time": "2022-07-02T06:36:13.239665",
     "exception": false,
     "start_time": "2022-07-02T06:36:13.228381",
     "status": "completed"
    },
    "tags": []
   },
   "source": [
    "The plot depicts that lower the value of SOP, lower is the Chance of Admit"
   ]
  },
  {
   "cell_type": "code",
   "execution_count": 12,
   "id": "badd3f0e",
   "metadata": {
    "execution": {
     "iopub.execute_input": "2022-07-02T06:36:13.265207Z",
     "iopub.status.busy": "2022-07-02T06:36:13.264250Z",
     "iopub.status.idle": "2022-07-02T06:36:13.506795Z",
     "shell.execute_reply": "2022-07-02T06:36:13.505523Z"
    },
    "papermill": {
     "duration": 0.258119,
     "end_time": "2022-07-02T06:36:13.509362",
     "exception": false,
     "start_time": "2022-07-02T06:36:13.251243",
     "status": "completed"
    },
    "tags": []
   },
   "outputs": [
    {
     "data": {
      "image/png": "[encoded data removed]",
      "text/plain": [
       "<Figure size 648x576 with 1 Axes>"
      ]
     },
     "metadata": {
      "needs_background": "light"
     },
     "output_type": "display_data"
    }
   ],
   "source": [
    "#Checking relation between Chances of admit and Gre Score\n",
    "df.plot(x='Chance of Admit ', y='GRE_Score', kind=\"hist\", figsize=(9, 8), color = 'coral')\n",
    "plt.show()"
   ]
  },
  {
   "cell_type": "code",
   "execution_count": 13,
   "id": "72726c0a",
   "metadata": {
    "execution": {
     "iopub.execute_input": "2022-07-02T06:36:13.534766Z",
     "iopub.status.busy": "2022-07-02T06:36:13.534381Z",
     "iopub.status.idle": "2022-07-02T06:36:13.800223Z",
     "shell.execute_reply": "2022-07-02T06:36:13.798998Z"
    },
    "papermill": {
     "duration": 0.281404,
     "end_time": "2022-07-02T06:36:13.802736",
     "exception": false,
     "start_time": "2022-07-02T06:36:13.521332",
     "status": "completed"
    },
    "tags": []
   },
   "outputs": [
    {
     "data": {
      "image/png": "[encoded data removed]",
      "text/plain": [
       "<Figure size 648x576 with 1 Axes>"
      ]
     },
     "metadata": {
      "needs_background": "light"
     },
     "output_type": "display_data"
    }
   ],
   "source": [
    "#Checking relation between Chances of admit and TOEFL Score\n",
    "df.plot(x='Chance of Admit ', y='TOEFL_Score', kind=\"hist\", figsize=(9, 8), color = 'peru')\n",
    "plt.show()"
   ]
  },
  {
   "cell_type": "code",
   "execution_count": 14,
   "id": "df08a4bf",
   "metadata": {
    "execution": {
     "iopub.execute_input": "2022-07-02T06:36:13.829439Z",
     "iopub.status.busy": "2022-07-02T06:36:13.828784Z",
     "iopub.status.idle": "2022-07-02T06:36:14.051311Z",
     "shell.execute_reply": "2022-07-02T06:36:14.050044Z"
    },
    "papermill": {
     "duration": 0.238253,
     "end_time": "2022-07-02T06:36:14.053475",
     "exception": false,
     "start_time": "2022-07-02T06:36:13.815222",
     "status": "completed"
    },
    "tags": []
   },
   "outputs": [
    {
     "data": {
      "text/plain": [
       "<AxesSubplot:xlabel='Chance of Admit ', ylabel='GRE_Score'>"
      ]
     },
     "execution_count": 14,
     "metadata": {},
     "output_type": "execute_result"
    },
    {
     "data": {
      "image/png": "[encoded data removed]",
      "text/plain": [
       "<Figure size 432x288 with 1 Axes>"
      ]
     },
     "metadata": {
      "needs_background": "light"
     },
     "output_type": "display_data"
    }
   ],
   "source": [
    "df.plot.scatter('Chance of Admit ','GRE_Score', color = 'darkturquoise')"
   ]
  },
  {
   "cell_type": "code",
   "execution_count": 15,
   "id": "9e5964f8",
   "metadata": {
    "execution": {
     "iopub.execute_input": "2022-07-02T06:36:14.080674Z",
     "iopub.status.busy": "2022-07-02T06:36:14.080303Z",
     "iopub.status.idle": "2022-07-02T06:36:14.308671Z",
     "shell.execute_reply": "2022-07-02T06:36:14.307636Z"
    },
    "papermill": {
     "duration": 0.245117,
     "end_time": "2022-07-02T06:36:14.311663",
     "exception": false,
     "start_time": "2022-07-02T06:36:14.066546",
     "status": "completed"
    },
    "tags": []
   },
   "outputs": [
    {
     "data": {
      "text/plain": [
       "<AxesSubplot:xlabel='Chance of Admit ', ylabel='GRE_Score'>"
      ]
     },
     "execution_count": 15,
     "metadata": {},
     "output_type": "execute_result"
    },
    {
     "data": {
      "image/png": "[encoded data removed]",
      "text/plain": [
       "<Figure size 432x288 with 1 Axes>"
      ]
     },
     "metadata": {
      "needs_background": "light"
     },
     "output_type": "display_data"
    }
   ],
   "source": [
    "df.plot.scatter('Chance of Admit ','GRE_Score', color = 'teal')"
   ]
  },
  {
   "cell_type": "code",
   "execution_count": 16,
   "id": "b258c470",
   "metadata": {
    "execution": {
     "iopub.execute_input": "2022-07-02T06:36:14.340161Z",
     "iopub.status.busy": "2022-07-02T06:36:14.339165Z",
     "iopub.status.idle": "2022-07-02T06:36:14.560662Z",
     "shell.execute_reply": "2022-07-02T06:36:14.559787Z"
    },
    "papermill": {
     "duration": 0.237897,
     "end_time": "2022-07-02T06:36:14.562838",
     "exception": false,
     "start_time": "2022-07-02T06:36:14.324941",
     "status": "completed"
    },
    "tags": []
   },
   "outputs": [
    {
     "data": {
      "text/plain": [
       "<AxesSubplot:xlabel='Chance of Admit ', ylabel='Research'>"
      ]
     },
     "execution_count": 16,
     "metadata": {},
     "output_type": "execute_result"
    },
    {
     "data": {
      "image/png": "[encoded data removed]",
      "text/plain": [
       "<Figure size 432x288 with 1 Axes>"
      ]
     },
     "metadata": {
      "needs_background": "light"
     },
     "output_type": "display_data"
    }
   ],
   "source": [
    "df.plot.scatter('Chance of Admit ','Research', color = 'forestgreen')"
   ]
  },
  {
   "cell_type": "markdown",
   "id": "8668a91f",
   "metadata": {
    "papermill": {
     "duration": 0.012911,
     "end_time": "2022-07-02T06:36:14.589306",
     "exception": false,
     "start_time": "2022-07-02T06:36:14.576395",
     "status": "completed"
    },
    "tags": []
   },
   "source": [
    "Research experience seems to have moderate to high impact on Admit chances."
   ]
  },
  {
   "cell_type": "code",
   "execution_count": 17,
   "id": "d6506c6d",
   "metadata": {
    "execution": {
     "iopub.execute_input": "2022-07-02T06:36:14.618151Z",
     "iopub.status.busy": "2022-07-02T06:36:14.617433Z",
     "iopub.status.idle": "2022-07-02T06:36:14.623255Z",
     "shell.execute_reply": "2022-07-02T06:36:14.622417Z"
    },
    "papermill": {
     "duration": 0.022983,
     "end_time": "2022-07-02T06:36:14.625735",
     "exception": false,
     "start_time": "2022-07-02T06:36:14.602752",
     "status": "completed"
    },
    "tags": []
   },
   "outputs": [],
   "source": [
    "#fig, ax = plt.subplots()\n",
    "\n",
    "#ax.plot(df['Chance of Admit '], df['TOEFL_Score'], color = 'goldenrod')\n",
    "#ax.plot(df['Chance of Admit '], df['GRE_Score'], color = 'darkturquoise')\n",
    "#plt.show()"
   ]
  },
  {
   "cell_type": "markdown",
   "id": "e0845d57",
   "metadata": {
    "papermill": {
     "duration": 0.013055,
     "end_time": "2022-07-02T06:36:14.652281",
     "exception": false,
     "start_time": "2022-07-02T06:36:14.639226",
     "status": "completed"
    },
    "tags": []
   },
   "source": [
    "**From Data Analysis, we can say that a Good to moderate GRE and TOEFL score along with research experience can land students with an admit.**"
   ]
  },
  {
   "cell_type": "markdown",
   "id": "f74520f0",
   "metadata": {
    "papermill": {
     "duration": 0.012844,
     "end_time": "2022-07-02T06:36:14.678539",
     "exception": false,
     "start_time": "2022-07-02T06:36:14.665695",
     "status": "completed"
    },
    "tags": []
   },
   "source": [
    "# Data Preprocessing"
   ]
  },
  {
   "cell_type": "code",
   "execution_count": 18,
   "id": "77f7897b",
   "metadata": {
    "execution": {
     "iopub.execute_input": "2022-07-02T06:36:14.707432Z",
     "iopub.status.busy": "2022-07-02T06:36:14.706622Z",
     "iopub.status.idle": "2022-07-02T06:36:14.713413Z",
     "shell.execute_reply": "2022-07-02T06:36:14.712555Z"
    },
    "papermill": {
     "duration": 0.024191,
     "end_time": "2022-07-02T06:36:14.716056",
     "exception": false,
     "start_time": "2022-07-02T06:36:14.691865",
     "status": "completed"
    },
    "tags": []
   },
   "outputs": [],
   "source": [
    "#Split data into values and labels (Y = Mx + b) M = weights, b = Bias\n",
    "\n",
    "x = df.drop('Chance of Admit ', axis = 1)\n",
    "y = df['Chance of Admit ']"
   ]
  },
  {
   "cell_type": "code",
   "execution_count": 19,
   "id": "f7418797",
   "metadata": {
    "execution": {
     "iopub.execute_input": "2022-07-02T06:36:14.744203Z",
     "iopub.status.busy": "2022-07-02T06:36:14.743808Z",
     "iopub.status.idle": "2022-07-02T06:36:14.748351Z",
     "shell.execute_reply": "2022-07-02T06:36:14.747047Z"
    },
    "papermill": {
     "duration": 0.021458,
     "end_time": "2022-07-02T06:36:14.750790",
     "exception": false,
     "start_time": "2022-07-02T06:36:14.729332",
     "status": "completed"
    },
    "tags": []
   },
   "outputs": [],
   "source": [
    "#Let's make data workable i.e scale the data with simple scaler\n",
    "# This gives R2 score of about 0.77\n",
    "\n",
    "#from sklearn import preprocessing\n",
    "#x = preprocessing.scale(x)"
   ]
  },
  {
   "cell_type": "code",
   "execution_count": 20,
   "id": "735a852d",
   "metadata": {
    "execution": {
     "iopub.execute_input": "2022-07-02T06:36:14.779213Z",
     "iopub.status.busy": "2022-07-02T06:36:14.778811Z",
     "iopub.status.idle": "2022-07-02T06:36:14.928674Z",
     "shell.execute_reply": "2022-07-02T06:36:14.927732Z"
    },
    "papermill": {
     "duration": 0.167149,
     "end_time": "2022-07-02T06:36:14.931127",
     "exception": false,
     "start_time": "2022-07-02T06:36:14.763978",
     "status": "completed"
    },
    "tags": []
   },
   "outputs": [
    {
     "data": {
      "text/html": [
       "<div>\n",
       "<style scoped>\n",
       "    .dataframe tbody tr th:only-of-type {\n",
       "        vertical-align: middle;\n",
       "    }\n",
       "\n",
       "    .dataframe tbody tr th {\n",
       "        vertical-align: top;\n",
       "    }\n",
       "\n",
       "    .dataframe thead th {\n",
       "        text-align: right;\n",
       "    }\n",
       "</style>\n",
       "<table border=\"1\" class=\"dataframe\">\n",
       "  <thead>\n",
       "    <tr style=\"text-align: right;\">\n",
       "      <th></th>\n",
       "      <th>GRE_Score</th>\n",
       "      <th>TOEFL_Score</th>\n",
       "      <th>University_Rating</th>\n",
       "      <th>SOP</th>\n",
       "      <th>LOR</th>\n",
       "      <th>CGPA</th>\n",
       "      <th>Research</th>\n",
       "      <th>Chance of Admit</th>\n",
       "    </tr>\n",
       "  </thead>\n",
       "  <tbody>\n",
       "    <tr>\n",
       "      <th>0</th>\n",
       "      <td>0.94</td>\n",
       "      <td>0.928571</td>\n",
       "      <td>0.75</td>\n",
       "      <td>0.875</td>\n",
       "      <td>0.875</td>\n",
       "      <td>0.913462</td>\n",
       "      <td>1.0</td>\n",
       "      <td>0.920635</td>\n",
       "    </tr>\n",
       "    <tr>\n",
       "      <th>1</th>\n",
       "      <td>0.68</td>\n",
       "      <td>0.535714</td>\n",
       "      <td>0.75</td>\n",
       "      <td>0.750</td>\n",
       "      <td>0.875</td>\n",
       "      <td>0.663462</td>\n",
       "      <td>1.0</td>\n",
       "      <td>0.666667</td>\n",
       "    </tr>\n",
       "    <tr>\n",
       "      <th>2</th>\n",
       "      <td>0.52</td>\n",
       "      <td>0.428571</td>\n",
       "      <td>0.50</td>\n",
       "      <td>0.500</td>\n",
       "      <td>0.625</td>\n",
       "      <td>0.384615</td>\n",
       "      <td>1.0</td>\n",
       "      <td>0.603175</td>\n",
       "    </tr>\n",
       "    <tr>\n",
       "      <th>3</th>\n",
       "      <td>0.64</td>\n",
       "      <td>0.642857</td>\n",
       "      <td>0.50</td>\n",
       "      <td>0.625</td>\n",
       "      <td>0.375</td>\n",
       "      <td>0.599359</td>\n",
       "      <td>1.0</td>\n",
       "      <td>0.730159</td>\n",
       "    </tr>\n",
       "    <tr>\n",
       "      <th>4</th>\n",
       "      <td>0.48</td>\n",
       "      <td>0.392857</td>\n",
       "      <td>0.25</td>\n",
       "      <td>0.250</td>\n",
       "      <td>0.500</td>\n",
       "      <td>0.451923</td>\n",
       "      <td>0.0</td>\n",
       "      <td>0.492063</td>\n",
       "    </tr>\n",
       "    <tr>\n",
       "      <th>...</th>\n",
       "      <td>...</td>\n",
       "      <td>...</td>\n",
       "      <td>...</td>\n",
       "      <td>...</td>\n",
       "      <td>...</td>\n",
       "      <td>...</td>\n",
       "      <td>...</td>\n",
       "      <td>...</td>\n",
       "    </tr>\n",
       "    <tr>\n",
       "      <th>495</th>\n",
       "      <td>0.84</td>\n",
       "      <td>0.571429</td>\n",
       "      <td>1.00</td>\n",
       "      <td>0.875</td>\n",
       "      <td>0.750</td>\n",
       "      <td>0.711538</td>\n",
       "      <td>1.0</td>\n",
       "      <td>0.841270</td>\n",
       "    </tr>\n",
       "    <tr>\n",
       "      <th>496</th>\n",
       "      <td>0.94</td>\n",
       "      <td>0.892857</td>\n",
       "      <td>1.00</td>\n",
       "      <td>1.000</td>\n",
       "      <td>1.000</td>\n",
       "      <td>0.983974</td>\n",
       "      <td>1.0</td>\n",
       "      <td>0.984127</td>\n",
       "    </tr>\n",
       "    <tr>\n",
       "      <th>497</th>\n",
       "      <td>0.80</td>\n",
       "      <td>1.000000</td>\n",
       "      <td>1.00</td>\n",
       "      <td>0.875</td>\n",
       "      <td>1.000</td>\n",
       "      <td>0.884615</td>\n",
       "      <td>1.0</td>\n",
       "      <td>0.936508</td>\n",
       "    </tr>\n",
       "    <tr>\n",
       "      <th>498</th>\n",
       "      <td>0.44</td>\n",
       "      <td>0.392857</td>\n",
       "      <td>0.75</td>\n",
       "      <td>0.750</td>\n",
       "      <td>1.000</td>\n",
       "      <td>0.522436</td>\n",
       "      <td>0.0</td>\n",
       "      <td>0.619048</td>\n",
       "    </tr>\n",
       "    <tr>\n",
       "      <th>499</th>\n",
       "      <td>0.74</td>\n",
       "      <td>0.750000</td>\n",
       "      <td>0.75</td>\n",
       "      <td>0.875</td>\n",
       "      <td>0.875</td>\n",
       "      <td>0.717949</td>\n",
       "      <td>0.0</td>\n",
       "      <td>0.793651</td>\n",
       "    </tr>\n",
       "  </tbody>\n",
       "</table>\n",
       "<p>500 rows × 8 columns</p>\n",
       "</div>"
      ],
      "text/plain": [
       "     GRE_Score  TOEFL_Score  University_Rating    SOP   LOR       CGPA  \\\n",
       "0         0.94     0.928571               0.75  0.875  0.875  0.913462   \n",
       "1         0.68     0.535714               0.75  0.750  0.875  0.663462   \n",
       "2         0.52     0.428571               0.50  0.500  0.625  0.384615   \n",
       "3         0.64     0.642857               0.50  0.625  0.375  0.599359   \n",
       "4         0.48     0.392857               0.25  0.250  0.500  0.451923   \n",
       "..         ...          ...                ...    ...    ...       ...   \n",
       "495       0.84     0.571429               1.00  0.875  0.750  0.711538   \n",
       "496       0.94     0.892857               1.00  1.000  1.000  0.983974   \n",
       "497       0.80     1.000000               1.00  0.875  1.000  0.884615   \n",
       "498       0.44     0.392857               0.75  0.750  1.000  0.522436   \n",
       "499       0.74     0.750000               0.75  0.875  0.875  0.717949   \n",
       "\n",
       "     Research  Chance of Admit   \n",
       "0         1.0          0.920635  \n",
       "1         1.0          0.666667  \n",
       "2         1.0          0.603175  \n",
       "3         1.0          0.730159  \n",
       "4         0.0          0.492063  \n",
       "..        ...               ...  \n",
       "495       1.0          0.841270  \n",
       "496       1.0          0.984127  \n",
       "497       1.0          0.936508  \n",
       "498       0.0          0.619048  \n",
       "499       0.0          0.793651  \n",
       "\n",
       "[500 rows x 8 columns]"
      ]
     },
     "execution_count": 20,
     "metadata": {},
     "output_type": "execute_result"
    }
   ],
   "source": [
    "#Now try scaling with MinMaxScaler\n",
    "#This helps to increase R2 score (~0.8)\n",
    "from sklearn.preprocessing import MinMaxScaler\n",
    "\n",
    "Scale  = MinMaxScaler()\n",
    "\n",
    "features = ['GRE_Score', 'TOEFL_Score', 'University_Rating', 'SOP', 'LOR ', 'CGPA',\n",
    "       'Research', 'Chance of Admit ']\n",
    "\n",
    "df[features] = Scale.fit_transform(df[features])\n",
    "\n",
    "df[features]"
   ]
  },
  {
   "cell_type": "markdown",
   "id": "2e1e9d92",
   "metadata": {
    "papermill": {
     "duration": 0.01324,
     "end_time": "2022-07-02T06:36:14.958292",
     "exception": false,
     "start_time": "2022-07-02T06:36:14.945052",
     "status": "completed"
    },
    "tags": []
   },
   "source": [
    "# Train_Test_Split"
   ]
  },
  {
   "cell_type": "code",
   "execution_count": 21,
   "id": "87f01301",
   "metadata": {
    "execution": {
     "iopub.execute_input": "2022-07-02T06:36:14.988521Z",
     "iopub.status.busy": "2022-07-02T06:36:14.987620Z",
     "iopub.status.idle": "2022-07-02T06:36:15.043814Z",
     "shell.execute_reply": "2022-07-02T06:36:15.042923Z"
    },
    "papermill": {
     "duration": 0.074023,
     "end_time": "2022-07-02T06:36:15.046618",
     "exception": false,
     "start_time": "2022-07-02T06:36:14.972595",
     "status": "completed"
    },
    "tags": []
   },
   "outputs": [],
   "source": [
    "#Split data into train and test data for both x and y\n",
    "from sklearn.model_selection import train_test_split\n",
    "\n",
    "# 80% train data and 20% test data\n",
    "X_train, X_test, y_train, y_test = train_test_split(x, y, test_size = 0.2)"
   ]
  },
  {
   "cell_type": "code",
   "execution_count": 22,
   "id": "10b8562f",
   "metadata": {
    "execution": {
     "iopub.execute_input": "2022-07-02T06:36:15.075874Z",
     "iopub.status.busy": "2022-07-02T06:36:15.075506Z",
     "iopub.status.idle": "2022-07-02T06:36:15.083267Z",
     "shell.execute_reply": "2022-07-02T06:36:15.081948Z"
    },
    "papermill": {
     "duration": 0.025191,
     "end_time": "2022-07-02T06:36:15.085688",
     "exception": false,
     "start_time": "2022-07-02T06:36:15.060497",
     "status": "completed"
    },
    "tags": []
   },
   "outputs": [
    {
     "data": {
      "text/plain": [
       "(400, 7)"
      ]
     },
     "execution_count": 22,
     "metadata": {},
     "output_type": "execute_result"
    }
   ],
   "source": [
    "X_train.shape"
   ]
  },
  {
   "cell_type": "code",
   "execution_count": 23,
   "id": "533f02a1",
   "metadata": {
    "execution": {
     "iopub.execute_input": "2022-07-02T06:36:15.116180Z",
     "iopub.status.busy": "2022-07-02T06:36:15.115401Z",
     "iopub.status.idle": "2022-07-02T06:36:15.122673Z",
     "shell.execute_reply": "2022-07-02T06:36:15.121728Z"
    },
    "papermill": {
     "duration": 0.0254,
     "end_time": "2022-07-02T06:36:15.125099",
     "exception": false,
     "start_time": "2022-07-02T06:36:15.099699",
     "status": "completed"
    },
    "tags": []
   },
   "outputs": [
    {
     "data": {
      "text/plain": [
       "(400,)"
      ]
     },
     "execution_count": 23,
     "metadata": {},
     "output_type": "execute_result"
    }
   ],
   "source": [
    "y_train.shape"
   ]
  },
  {
   "cell_type": "markdown",
   "id": "c6593149",
   "metadata": {
    "papermill": {
     "duration": 0.013697,
     "end_time": "2022-07-02T06:36:15.152971",
     "exception": false,
     "start_time": "2022-07-02T06:36:15.139274",
     "status": "completed"
    },
    "tags": []
   },
   "source": [
    "# Linear Regression Model"
   ]
  },
  {
   "cell_type": "code",
   "execution_count": 24,
   "id": "caeb1641",
   "metadata": {
    "execution": {
     "iopub.execute_input": "2022-07-02T06:36:15.183480Z",
     "iopub.status.busy": "2022-07-02T06:36:15.182810Z",
     "iopub.status.idle": "2022-07-02T06:36:15.278560Z",
     "shell.execute_reply": "2022-07-02T06:36:15.277583Z"
    },
    "papermill": {
     "duration": 0.1142,
     "end_time": "2022-07-02T06:36:15.281447",
     "exception": false,
     "start_time": "2022-07-02T06:36:15.167247",
     "status": "completed"
    },
    "tags": []
   },
   "outputs": [
    {
     "data": {
      "text/plain": [
       "LinearRegression()"
      ]
     },
     "execution_count": 24,
     "metadata": {},
     "output_type": "execute_result"
    }
   ],
   "source": [
    "from sklearn.linear_model import LinearRegression\n",
    "\n",
    "lr = LinearRegression()\n",
    "lr.fit(X_train, y_train)"
   ]
  },
  {
   "cell_type": "code",
   "execution_count": 25,
   "id": "2cda1b18",
   "metadata": {
    "execution": {
     "iopub.execute_input": "2022-07-02T06:36:15.311337Z",
     "iopub.status.busy": "2022-07-02T06:36:15.310416Z",
     "iopub.status.idle": "2022-07-02T06:36:15.317026Z",
     "shell.execute_reply": "2022-07-02T06:36:15.316173Z"
    },
    "papermill": {
     "duration": 0.023843,
     "end_time": "2022-07-02T06:36:15.319303",
     "exception": false,
     "start_time": "2022-07-02T06:36:15.295460",
     "status": "completed"
    },
    "tags": []
   },
   "outputs": [],
   "source": [
    "y_pred = lr.predict(X_test)"
   ]
  },
  {
   "cell_type": "markdown",
   "id": "dbd4d528",
   "metadata": {
    "papermill": {
     "duration": 0.013794,
     "end_time": "2022-07-02T06:36:15.347838",
     "exception": false,
     "start_time": "2022-07-02T06:36:15.334044",
     "status": "completed"
    },
    "tags": []
   },
   "source": [
    "# Prediction Metrics and plots"
   ]
  },
  {
   "cell_type": "code",
   "execution_count": 26,
   "id": "f7427d41",
   "metadata": {
    "execution": {
     "iopub.execute_input": "2022-07-02T06:36:15.378224Z",
     "iopub.status.busy": "2022-07-02T06:36:15.377769Z",
     "iopub.status.idle": "2022-07-02T06:36:15.385045Z",
     "shell.execute_reply": "2022-07-02T06:36:15.384161Z"
    },
    "papermill": {
     "duration": 0.025495,
     "end_time": "2022-07-02T06:36:15.387195",
     "exception": false,
     "start_time": "2022-07-02T06:36:15.361700",
     "status": "completed"
    },
    "tags": []
   },
   "outputs": [
    {
     "data": {
      "text/plain": [
       "0.8266186314510113"
      ]
     },
     "execution_count": 26,
     "metadata": {},
     "output_type": "execute_result"
    }
   ],
   "source": [
    "from sklearn.metrics import r2_score\n",
    "r2_score(y_test, y_pred)"
   ]
  },
  {
   "cell_type": "markdown",
   "id": "984183ee",
   "metadata": {
    "papermill": {
     "duration": 0.013565,
     "end_time": "2022-07-02T06:36:15.414789",
     "exception": false,
     "start_time": "2022-07-02T06:36:15.401224",
     "status": "completed"
    },
    "tags": []
   },
   "source": [
    "**A R2 Score of 1.0 indicates perfect fit i.e a perfect straight line**. \n",
    "\n",
    "Here, we got R2 score near 0.8 that is still pretty good fit to a straight line."
   ]
  },
  {
   "cell_type": "code",
   "execution_count": 27,
   "id": "52d00fcf",
   "metadata": {
    "execution": {
     "iopub.execute_input": "2022-07-02T06:36:15.444790Z",
     "iopub.status.busy": "2022-07-02T06:36:15.444128Z",
     "iopub.status.idle": "2022-07-02T06:36:15.648856Z",
     "shell.execute_reply": "2022-07-02T06:36:15.647633Z"
    },
    "papermill": {
     "duration": 0.222572,
     "end_time": "2022-07-02T06:36:15.651359",
     "exception": false,
     "start_time": "2022-07-02T06:36:15.428787",
     "status": "completed"
    },
    "tags": []
   },
   "outputs": [
    {
     "data": {
      "text/plain": [
       "<matplotlib.collections.PathCollection at 0x7f9eb8f17a90>"
      ]
     },
     "execution_count": 27,
     "metadata": {},
     "output_type": "execute_result"
    },
    {
     "data": {
      "image/png": "[encoded data removed]",
      "text/plain": [
       "<Figure size 432x288 with 1 Axes>"
      ]
     },
     "metadata": {
      "needs_background": "light"
     },
     "output_type": "display_data"
    }
   ],
   "source": [
    "# Plotting scatter plot to check fit.\n",
    "plt.scatter(y_test,y_pred)"
   ]
  },
  {
   "cell_type": "markdown",
   "id": "ccab39d7",
   "metadata": {
    "papermill": {
     "duration": 0.0146,
     "end_time": "2022-07-02T06:36:15.680667",
     "exception": false,
     "start_time": "2022-07-02T06:36:15.666067",
     "status": "completed"
    },
    "tags": []
   },
   "source": [
    "The fit turns about to be approximately a straight line."
   ]
  },
  {
   "cell_type": "markdown",
   "id": "83f4b5d3",
   "metadata": {
    "papermill": {
     "duration": 0.014086,
     "end_time": "2022-07-02T06:36:15.709305",
     "exception": false,
     "start_time": "2022-07-02T06:36:15.695219",
     "status": "completed"
    },
    "tags": []
   },
   "source": [
    "**Thank You :)**\n",
    "\n",
    "*Please feel free to share your feedbacks and suggestions in the comments :)*"
   ]
  }
 ],
 "metadata": {
  "kernelspec": {
   "display_name": "Python 3",
   "language": "python",
   "name": "python3"
  },
  "language_info": {
   "codemirror_mode": {
    "name": "ipython",
    "version": 3
   },
   "file_extension": ".py",
   "mimetype": "text/x-python",
   "name": "python",
   "nbconvert_exporter": "python",
   "pygments_lexer": "ipython3",
   "version": "3.7.12"
  },
  "papermill": {
   "default_parameters": {},
   "duration": 15.067663,
   "end_time": "2022-07-02T06:36:16.444886",
   "environment_variables": {},
   "exception": null,
   "input_path": "__notebook__.ipynb",
   "output_path": "__notebook__.ipynb",
   "parameters": {},
   "start_time": "2022-07-02T06:36:01.377223",
   "version": "2.3.4"
  }
 },
 "nbformat": 4,
 "nbformat_minor": 5
}
