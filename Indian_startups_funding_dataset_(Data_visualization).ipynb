{
  "nbformat": 4,
  "nbformat_minor": 0,
  "metadata": {
    "colab": {
      "name": "Indian startups funding dataset (Data visualization).ipynb",
      "provenance": [],
      "authorship_tag": "ABX9TyP64gQXyQ6nM+z8i2XZh5zW",
      "include_colab_link": true
    },
    "kernelspec": {
      "name": "python3",
      "display_name": "Python 3"
    },
    "language_info": {
      "name": "python"
    },
    "widgets": {
      "application/vnd.jupyter.widget-state+json": {
        "3b5c531b2a3c48d6a8ec54eda69e9d66": {
          "model_module": "@jupyter-widgets/controls",
          "model_name": "VBoxModel",
          "model_module_version": "1.5.0",
          "state": {
            "_dom_classes": [],
            "_model_module": "@jupyter-widgets/controls",
            "_model_module_version": "1.5.0",
            "_model_name": "VBoxModel",
            "_view_count": null,
            "_view_module": "@jupyter-widgets/controls",
            "_view_module_version": "1.5.0",
            "_view_name": "VBoxView",
            "box_style": "",
            "children": [
              "IPY_MODEL_a601e47218004f4cafe6c3d8ed81174a",
              "IPY_MODEL_d974a8f641b843699016719062df009f"
            ],
            "layout": "IPY_MODEL_d278f2f1237844c6ba6d327b94b5aeaf"
          }
        },
        "a601e47218004f4cafe6c3d8ed81174a": {
          "model_module": "@jupyter-widgets/controls",
          "model_name": "LabelModel",
          "model_module_version": "1.5.0",
          "state": {
            "_dom_classes": [],
            "_model_module": "@jupyter-widgets/controls",
            "_model_module_version": "1.5.0",
            "_model_name": "LabelModel",
            "_view_count": null,
            "_view_module": "@jupyter-widgets/controls",
            "_view_module_version": "1.5.0",
            "_view_name": "LabelView",
            "description": "",
            "description_tooltip": null,
            "layout": "IPY_MODEL_b47440c9af114177a509523f8316a8f4",
            "placeholder": "​",
            "style": "IPY_MODEL_1d5084d354a94edc87e5ae495922f7b1",
            "value": "0.008 MB of 0.008 MB uploaded (0.000 MB deduped)\r"
          }
        },
        "d974a8f641b843699016719062df009f": {
          "model_module": "@jupyter-widgets/controls",
          "model_name": "FloatProgressModel",
          "model_module_version": "1.5.0",
          "state": {
            "_dom_classes": [],
            "_model_module": "@jupyter-widgets/controls",
            "_model_module_version": "1.5.0",
            "_model_name": "FloatProgressModel",
            "_view_count": null,
            "_view_module": "@jupyter-widgets/controls",
            "_view_module_version": "1.5.0",
            "_view_name": "ProgressView",
            "bar_style": "",
            "description": "",
            "description_tooltip": null,
            "layout": "IPY_MODEL_8dd58639964e4f0d9c42e290224f9187",
            "max": 1,
            "min": 0,
            "orientation": "horizontal",
            "style": "IPY_MODEL_9638a0f9645c45e4bdf8596180d5e394",
            "value": 1
          }
        },
        "d278f2f1237844c6ba6d327b94b5aeaf": {
          "model_module": "@jupyter-widgets/base",
          "model_name": "LayoutModel",
          "model_module_version": "1.2.0",
          "state": {
            "_model_module": "@jupyter-widgets/base",
            "_model_module_version": "1.2.0",
            "_model_name": "LayoutModel",
            "_view_count": null,
            "_view_module": "@jupyter-widgets/base",
            "_view_module_version": "1.2.0",
            "_view_name": "LayoutView",
            "align_content": null,
            "align_items": null,
            "align_self": null,
            "border": null,
            "bottom": null,
            "display": null,
            "flex": null,
            "flex_flow": null,
            "grid_area": null,
            "grid_auto_columns": null,
            "grid_auto_flow": null,
            "grid_auto_rows": null,
            "grid_column": null,
            "grid_gap": null,
            "grid_row": null,
            "grid_template_areas": null,
            "grid_template_columns": null,
            "grid_template_rows": null,
            "height": null,
            "justify_content": null,
            "justify_items": null,
            "left": null,
            "margin": null,
            "max_height": null,
            "max_width": null,
            "min_height": null,
            "min_width": null,
            "object_fit": null,
            "object_position": null,
            "order": null,
            "overflow": null,
            "overflow_x": null,
            "overflow_y": null,
            "padding": null,
            "right": null,
            "top": null,
            "visibility": null,
            "width": null
          }
        },
        "b47440c9af114177a509523f8316a8f4": {
          "model_module": "@jupyter-widgets/base",
          "model_name": "LayoutModel",
          "model_module_version": "1.2.0",
          "state": {
            "_model_module": "@jupyter-widgets/base",
            "_model_module_version": "1.2.0",
            "_model_name": "LayoutModel",
            "_view_count": null,
            "_view_module": "@jupyter-widgets/base",
            "_view_module_version": "1.2.0",
            "_view_name": "LayoutView",
            "align_content": null,
            "align_items": null,
            "align_self": null,
            "border": null,
            "bottom": null,
            "display": null,
            "flex": null,
            "flex_flow": null,
            "grid_area": null,
            "grid_auto_columns": null,
            "grid_auto_flow": null,
            "grid_auto_rows": null,
            "grid_column": null,
            "grid_gap": null,
            "grid_row": null,
            "grid_template_areas": null,
            "grid_template_columns": null,
            "grid_template_rows": null,
            "height": null,
            "justify_content": null,
            "justify_items": null,
            "left": null,
            "margin": null,
            "max_height": null,
            "max_width": null,
            "min_height": null,
            "min_width": null,
            "object_fit": null,
            "object_position": null,
            "order": null,
            "overflow": null,
            "overflow_x": null,
            "overflow_y": null,
            "padding": null,
            "right": null,
            "top": null,
            "visibility": null,
            "width": null
          }
        },
        "1d5084d354a94edc87e5ae495922f7b1": {
          "model_module": "@jupyter-widgets/controls",
          "model_name": "DescriptionStyleModel",
          "model_module_version": "1.5.0",
          "state": {
            "_model_module": "@jupyter-widgets/controls",
            "_model_module_version": "1.5.0",
            "_model_name": "DescriptionStyleModel",
            "_view_count": null,
            "_view_module": "@jupyter-widgets/base",
            "_view_module_version": "1.2.0",
            "_view_name": "StyleView",
            "description_width": ""
          }
        },
        "8dd58639964e4f0d9c42e290224f9187": {
          "model_module": "@jupyter-widgets/base",
          "model_name": "LayoutModel",
          "model_module_version": "1.2.0",
          "state": {
            "_model_module": "@jupyter-widgets/base",
            "_model_module_version": "1.2.0",
            "_model_name": "LayoutModel",
            "_view_count": null,
            "_view_module": "@jupyter-widgets/base",
            "_view_module_version": "1.2.0",
            "_view_name": "LayoutView",
            "align_content": null,
            "align_items": null,
            "align_self": null,
            "border": null,
            "bottom": null,
            "display": null,
            "flex": null,
            "flex_flow": null,
            "grid_area": null,
            "grid_auto_columns": null,
            "grid_auto_flow": null,
            "grid_auto_rows": null,
            "grid_column": null,
            "grid_gap": null,
            "grid_row": null,
            "grid_template_areas": null,
            "grid_template_columns": null,
            "grid_template_rows": null,
            "height": null,
            "justify_content": null,
            "justify_items": null,
            "left": null,
            "margin": null,
            "max_height": null,
            "max_width": null,
            "min_height": null,
            "min_width": null,
            "object_fit": null,
            "object_position": null,
            "order": null,
            "overflow": null,
            "overflow_x": null,
            "overflow_y": null,
            "padding": null,
            "right": null,
            "top": null,
            "visibility": null,
            "width": null
          }
        },
        "9638a0f9645c45e4bdf8596180d5e394": {
          "model_module": "@jupyter-widgets/controls",
          "model_name": "ProgressStyleModel",
          "model_module_version": "1.5.0",
          "state": {
            "_model_module": "@jupyter-widgets/controls",
            "_model_module_version": "1.5.0",
            "_model_name": "ProgressStyleModel",
            "_view_count": null,
            "_view_module": "@jupyter-widgets/base",
            "_view_module_version": "1.2.0",
            "_view_name": "StyleView",
            "bar_color": null,
            "description_width": ""
          }
        },
        "6bab27129ba54c14aaed5c687eda0327": {
          "model_module": "@jupyter-widgets/controls",
          "model_name": "VBoxModel",
          "model_module_version": "1.5.0",
          "state": {
            "_dom_classes": [],
            "_model_module": "@jupyter-widgets/controls",
            "_model_module_version": "1.5.0",
            "_model_name": "VBoxModel",
            "_view_count": null,
            "_view_module": "@jupyter-widgets/controls",
            "_view_module_version": "1.5.0",
            "_view_name": "VBoxView",
            "box_style": "",
            "children": [
              "IPY_MODEL_ac1632fcbb38477aa9dff7c1381fe143",
              "IPY_MODEL_103a17dc5b4c458689255e4f255c314b"
            ],
            "layout": "IPY_MODEL_635046961e0442a99e5c0b3b5cecdf45"
          }
        },
        "ac1632fcbb38477aa9dff7c1381fe143": {
          "model_module": "@jupyter-widgets/controls",
          "model_name": "LabelModel",
          "model_module_version": "1.5.0",
          "state": {
            "_dom_classes": [],
            "_model_module": "@jupyter-widgets/controls",
            "_model_module_version": "1.5.0",
            "_model_name": "LabelModel",
            "_view_count": null,
            "_view_module": "@jupyter-widgets/controls",
            "_view_module_version": "1.5.0",
            "_view_name": "LabelView",
            "description": "",
            "description_tooltip": null,
            "layout": "IPY_MODEL_4ec0ca0c60f640e5a113c5fcdb845c48",
            "placeholder": "​",
            "style": "IPY_MODEL_8ebf23cfe2f3458686981df093597912",
            "value": "0.066 MB of 0.066 MB uploaded (0.000 MB deduped)\r"
          }
        },
        "103a17dc5b4c458689255e4f255c314b": {
          "model_module": "@jupyter-widgets/controls",
          "model_name": "FloatProgressModel",
          "model_module_version": "1.5.0",
          "state": {
            "_dom_classes": [],
            "_model_module": "@jupyter-widgets/controls",
            "_model_module_version": "1.5.0",
            "_model_name": "FloatProgressModel",
            "_view_count": null,
            "_view_module": "@jupyter-widgets/controls",
            "_view_module_version": "1.5.0",
            "_view_name": "ProgressView",
            "bar_style": "",
            "description": "",
            "description_tooltip": null,
            "layout": "IPY_MODEL_c47e906baf8b432c97d7490117e4803e",
            "max": 1,
            "min": 0,
            "orientation": "horizontal",
            "style": "IPY_MODEL_d562162e69c7465ea2066f5492f487fc",
            "value": 1
          }
        },
        "635046961e0442a99e5c0b3b5cecdf45": {
          "model_module": "@jupyter-widgets/base",
          "model_name": "LayoutModel",
          "model_module_version": "1.2.0",
          "state": {
            "_model_module": "@jupyter-widgets/base",
            "_model_module_version": "1.2.0",
            "_model_name": "LayoutModel",
            "_view_count": null,
            "_view_module": "@jupyter-widgets/base",
            "_view_module_version": "1.2.0",
            "_view_name": "LayoutView",
            "align_content": null,
            "align_items": null,
            "align_self": null,
            "border": null,
            "bottom": null,
            "display": null,
            "flex": null,
            "flex_flow": null,
            "grid_area": null,
            "grid_auto_columns": null,
            "grid_auto_flow": null,
            "grid_auto_rows": null,
            "grid_column": null,
            "grid_gap": null,
            "grid_row": null,
            "grid_template_areas": null,
            "grid_template_columns": null,
            "grid_template_rows": null,
            "height": null,
            "justify_content": null,
            "justify_items": null,
            "left": null,
            "margin": null,
            "max_height": null,
            "max_width": null,
            "min_height": null,
            "min_width": null,
            "object_fit": null,
            "object_position": null,
            "order": null,
            "overflow": null,
            "overflow_x": null,
            "overflow_y": null,
            "padding": null,
            "right": null,
            "top": null,
            "visibility": null,
            "width": null
          }
        },
        "4ec0ca0c60f640e5a113c5fcdb845c48": {
          "model_module": "@jupyter-widgets/base",
          "model_name": "LayoutModel",
          "model_module_version": "1.2.0",
          "state": {
            "_model_module": "@jupyter-widgets/base",
            "_model_module_version": "1.2.0",
            "_model_name": "LayoutModel",
            "_view_count": null,
            "_view_module": "@jupyter-widgets/base",
            "_view_module_version": "1.2.0",
            "_view_name": "LayoutView",
            "align_content": null,
            "align_items": null,
            "align_self": null,
            "border": null,
            "bottom": null,
            "display": null,
            "flex": null,
            "flex_flow": null,
            "grid_area": null,
            "grid_auto_columns": null,
            "grid_auto_flow": null,
            "grid_auto_rows": null,
            "grid_column": null,
            "grid_gap": null,
            "grid_row": null,
            "grid_template_areas": null,
            "grid_template_columns": null,
            "grid_template_rows": null,
            "height": null,
            "justify_content": null,
            "justify_items": null,
            "left": null,
            "margin": null,
            "max_height": null,
            "max_width": null,
            "min_height": null,
            "min_width": null,
            "object_fit": null,
            "object_position": null,
            "order": null,
            "overflow": null,
            "overflow_x": null,
            "overflow_y": null,
            "padding": null,
            "right": null,
            "top": null,
            "visibility": null,
            "width": null
          }
        },
        "8ebf23cfe2f3458686981df093597912": {
          "model_module": "@jupyter-widgets/controls",
          "model_name": "DescriptionStyleModel",
          "model_module_version": "1.5.0",
          "state": {
            "_model_module": "@jupyter-widgets/controls",
            "_model_module_version": "1.5.0",
            "_model_name": "DescriptionStyleModel",
            "_view_count": null,
            "_view_module": "@jupyter-widgets/base",
            "_view_module_version": "1.2.0",
            "_view_name": "StyleView",
            "description_width": ""
          }
        },
        "c47e906baf8b432c97d7490117e4803e": {
          "model_module": "@jupyter-widgets/base",
          "model_name": "LayoutModel",
          "model_module_version": "1.2.0",
          "state": {
            "_model_module": "@jupyter-widgets/base",
            "_model_module_version": "1.2.0",
            "_model_name": "LayoutModel",
            "_view_count": null,
            "_view_module": "@jupyter-widgets/base",
            "_view_module_version": "1.2.0",
            "_view_name": "LayoutView",
            "align_content": null,
            "align_items": null,
            "align_self": null,
            "border": null,
            "bottom": null,
            "display": null,
            "flex": null,
            "flex_flow": null,
            "grid_area": null,
            "grid_auto_columns": null,
            "grid_auto_flow": null,
            "grid_auto_rows": null,
            "grid_column": null,
            "grid_gap": null,
            "grid_row": null,
            "grid_template_areas": null,
            "grid_template_columns": null,
            "grid_template_rows": null,
            "height": null,
            "justify_content": null,
            "justify_items": null,
            "left": null,
            "margin": null,
            "max_height": null,
            "max_width": null,
            "min_height": null,
            "min_width": null,
            "object_fit": null,
            "object_position": null,
            "order": null,
            "overflow": null,
            "overflow_x": null,
            "overflow_y": null,
            "padding": null,
            "right": null,
            "top": null,
            "visibility": null,
            "width": null
          }
        },
        "d562162e69c7465ea2066f5492f487fc": {
          "model_module": "@jupyter-widgets/controls",
          "model_name": "ProgressStyleModel",
          "model_module_version": "1.5.0",
          "state": {
            "_model_module": "@jupyter-widgets/controls",
            "_model_module_version": "1.5.0",
            "_model_name": "ProgressStyleModel",
            "_view_count": null,
            "_view_module": "@jupyter-widgets/base",
            "_view_module_version": "1.2.0",
            "_view_name": "StyleView",
            "bar_color": null,
            "description_width": ""
          }
        }
      }
    }
  },
  "cells": [
    {
      "cell_type": "markdown",
      "metadata": {
        "id": "view-in-github",
        "colab_type": "text"
      },
      "source": [
        "<a href=\"https://colab.research.google.com/github/AashiDutt/Kaggle/blob/main/Indian_startups_funding_dataset_(Data_visualization).ipynb\" target=\"_parent\"><img src=\"https://colab.research.google.com/assets/colab-badge.svg\" alt=\"Open In Colab\"/></a>"
      ]
    },
    {
      "cell_type": "markdown",
      "source": [
        "Dataset: https://www.kaggle.com/code/maxvdw/eda-indian-start-ups-jan-may-2022/data\n",
        "\n",
        "About the Dataset:\n",
        "\n",
        "Ideas, creativity, and execution are essential for a startup to flourish. But are they enough? Investors provide startups and other entrepreneurial ventures with the capital—popularly known as \"funding\"—to think big, grow rich, and leave a lasting impact.\n",
        "You'll find the startup's details, the funding it received, and the investors' information here."
      ],
      "metadata": {
        "id": "cpE-C16_EHC7"
      }
    },
    {
      "cell_type": "code",
      "execution_count": 1,
      "metadata": {
        "id": "ADwM6U3suZNO"
      },
      "outputs": [],
      "source": [
        "import numpy as np\n",
        "import pandas as pd\n",
        "import matplotlib.pyplot as plt"
      ]
    },
    {
      "cell_type": "code",
      "source": [
        "data = '/content/Indian_startups_funding_dataset.zip'"
      ],
      "metadata": {
        "id": "4-uxxykfvUWh"
      },
      "execution_count": 4,
      "outputs": []
    },
    {
      "cell_type": "code",
      "source": [
        "!unzip /content/Indian_startups_funding_dataset.zip"
      ],
      "metadata": {
        "colab": {
          "base_uri": "https://localhost:8080/"
        },
        "id": "L0ltjSKkvmF-",
        "outputId": "da0a6bc0-08a9-4c8e-ac1e-aa697fcf6435"
      },
      "execution_count": 5,
      "outputs": [
        {
          "output_type": "stream",
          "name": "stdout",
          "text": [
            "Archive:  /content/Indian_startups_funding_dataset.zip\n",
            "  inflating: Indian Startups - Funding  Investors Data April 2022.csv  \n",
            "  inflating: Indian Startups - Funding  Investors Data February 2022.csv  \n",
            "  inflating: Indian Startups - Funding  Investors Data January 2022.csv  \n",
            "  inflating: Indian Startups - Funding  Investors Data March 2022.csv  \n",
            "  inflating: Indian Startups - Funding  Investors Data May 2022.csv  \n"
          ]
        }
      ]
    },
    {
      "cell_type": "code",
      "source": [
        "df = pd.read_csv('Indian Startups - Funding  Investors Data January 2022.csv', encoding= 'unicode_escape')"
      ],
      "metadata": {
        "id": "bsNfZrVkv4De"
      },
      "execution_count": 11,
      "outputs": []
    },
    {
      "cell_type": "code",
      "source": [
        "df.head(10)"
      ],
      "metadata": {
        "colab": {
          "base_uri": "https://localhost:8080/",
          "height": 571
        },
        "id": "geFyvmcKwRU9",
        "outputId": "0c46be8d-fb42-44a0-a154-946ac387cc64"
      },
      "execution_count": 12,
      "outputs": [
        {
          "output_type": "execute_result",
          "data": {
            "text/plain": [
              "                 Company Name  Founded   Location  \\\n",
              "0                   Mamaearth     2016    Gurgaon   \n",
              "1                   EsportsXO     2020  Bangalore   \n",
              "2                   Geniemode     2021    Gurgaon   \n",
              "3                      Exotel     2011  Bangalore   \n",
              "4  Innoviti Payment Solutions     2002  Bangalore   \n",
              "5                   Pine Labs     1998      Noida   \n",
              "6                   Moneyboxx     2018     Mumbai   \n",
              "7                       CASHe     2016     Mumbai   \n",
              "8              iD Fresh Foods     2006  Bangalore   \n",
              "9                   Freecultr     2020  New Delhi   \n",
              "\n",
              "                              Sector  \\\n",
              "0         Health, Wellness & Fitness   \n",
              "1                       Mobile Games   \n",
              "2                    Import & Export   \n",
              "3                 Telecommunications   \n",
              "4                 Financial Services   \n",
              "5  Information Technology & Services   \n",
              "6                 Financial Services   \n",
              "7                 Financial Services   \n",
              "8                    Food Production   \n",
              "9                  Apparel & Fashion   \n",
              "\n",
              "                                        What it does  \\\n",
              "0  Making products which are mum-baby friendly, t...   \n",
              "1  An esports company which offers tournament man...   \n",
              "2  Geniemode is building an extensive online plat...   \n",
              "3  Customer engagement platform, streamlining cus...   \n",
              "4  Innoviti is Indias most exciting payments com...   \n",
              "5  Pine Labs offers a merchant platform that incl...   \n",
              "6  A NBFC democratising access to capital to the ...   \n",
              "7  CASHe is a credit-enabled financial technology...   \n",
              "8  iD Fresh Food is professional assistant in the...   \n",
              "9  FREECULTR is an inner, sleep, lounge and activ...   \n",
              "\n",
              "                             Founders  \\\n",
              "0                         Varun Alagh   \n",
              "1  Utsav Umang, Rohit Raj, Vikas Goel   \n",
              "2         Tanuj Gangwani, Amit Sharma   \n",
              "3                  Shivakumar Ganesan   \n",
              "4                      Rajeev Agrawal   \n",
              "5                          Amrish Rau   \n",
              "6                          MAYUR MODI   \n",
              "7                               Raman   \n",
              "8            PC Musthafa, Abdul Naser   \n",
              "9           Shrey Luthra, Harshit Vij   \n",
              "\n",
              "                                            Investor       Amount     Stage  \n",
              "0                                            Sequoia  $52,000,000       NaN  \n",
              "1  We Founder Circle, Wami Capital, SucSEED Indov...   $1,000,000      Seed  \n",
              "2  Deepinder Goyal, Kunal Shah, Prashant Malik, P...   $7,000,000  Series A  \n",
              "3                                  Steadview Capital  $40,000,000  Series D  \n",
              "4  Trifecta Debt Fund, Patni Advisors, Bessemer V...  $10,000,000       NaN  \n",
              "5                                State Bank of India  $20,000,000       NaN  \n",
              "6                                                NaN   $1,000,000       NaN  \n",
              "7                                               TSLC  $10,000,000       NaN  \n",
              "8                           NewQuest Capital Partner  $60,000,000  Series D  \n",
              "9                               Sixth Sense Ventures   $5,000,000    Series  "
            ],
            "text/html": [
              "\n",
              "  <div id=\"df-22f506fc-07eb-4a63-aa9c-b649ac78de0d\">\n",
              "    <div class=\"colab-df-container\">\n",
              "      <div>\n",
              "<style scoped>\n",
              "    .dataframe tbody tr th:only-of-type {\n",
              "        vertical-align: middle;\n",
              "    }\n",
              "\n",
              "    .dataframe tbody tr th {\n",
              "        vertical-align: top;\n",
              "    }\n",
              "\n",
              "    .dataframe thead th {\n",
              "        text-align: right;\n",
              "    }\n",
              "</style>\n",
              "<table border=\"1\" class=\"dataframe\">\n",
              "  <thead>\n",
              "    <tr style=\"text-align: right;\">\n",
              "      <th></th>\n",
              "      <th>Company Name</th>\n",
              "      <th>Founded</th>\n",
              "      <th>Location</th>\n",
              "      <th>Sector</th>\n",
              "      <th>What it does</th>\n",
              "      <th>Founders</th>\n",
              "      <th>Investor</th>\n",
              "      <th>Amount</th>\n",
              "      <th>Stage</th>\n",
              "    </tr>\n",
              "  </thead>\n",
              "  <tbody>\n",
              "    <tr>\n",
              "      <th>0</th>\n",
              "      <td>Mamaearth</td>\n",
              "      <td>2016</td>\n",
              "      <td>Gurgaon</td>\n",
              "      <td>Health, Wellness &amp; Fitness</td>\n",
              "      <td>Making products which are mum-baby friendly, t...</td>\n",
              "      <td>Varun Alagh</td>\n",
              "      <td>Sequoia</td>\n",
              "      <td>$52,000,000</td>\n",
              "      <td>NaN</td>\n",
              "    </tr>\n",
              "    <tr>\n",
              "      <th>1</th>\n",
              "      <td>EsportsXO</td>\n",
              "      <td>2020</td>\n",
              "      <td>Bangalore</td>\n",
              "      <td>Mobile Games</td>\n",
              "      <td>An esports company which offers tournament man...</td>\n",
              "      <td>Utsav Umang, Rohit Raj, Vikas Goel</td>\n",
              "      <td>We Founder Circle, Wami Capital, SucSEED Indov...</td>\n",
              "      <td>$1,000,000</td>\n",
              "      <td>Seed</td>\n",
              "    </tr>\n",
              "    <tr>\n",
              "      <th>2</th>\n",
              "      <td>Geniemode</td>\n",
              "      <td>2021</td>\n",
              "      <td>Gurgaon</td>\n",
              "      <td>Import &amp; Export</td>\n",
              "      <td>Geniemode is building an extensive online plat...</td>\n",
              "      <td>Tanuj Gangwani, Amit Sharma</td>\n",
              "      <td>Deepinder Goyal, Kunal Shah, Prashant Malik, P...</td>\n",
              "      <td>$7,000,000</td>\n",
              "      <td>Series A</td>\n",
              "    </tr>\n",
              "    <tr>\n",
              "      <th>3</th>\n",
              "      <td>Exotel</td>\n",
              "      <td>2011</td>\n",
              "      <td>Bangalore</td>\n",
              "      <td>Telecommunications</td>\n",
              "      <td>Customer engagement platform, streamlining cus...</td>\n",
              "      <td>Shivakumar Ganesan</td>\n",
              "      <td>Steadview Capital</td>\n",
              "      <td>$40,000,000</td>\n",
              "      <td>Series D</td>\n",
              "    </tr>\n",
              "    <tr>\n",
              "      <th>4</th>\n",
              "      <td>Innoviti Payment Solutions</td>\n",
              "      <td>2002</td>\n",
              "      <td>Bangalore</td>\n",
              "      <td>Financial Services</td>\n",
              "      <td>Innoviti is Indias most exciting payments com...</td>\n",
              "      <td>Rajeev Agrawal</td>\n",
              "      <td>Trifecta Debt Fund, Patni Advisors, Bessemer V...</td>\n",
              "      <td>$10,000,000</td>\n",
              "      <td>NaN</td>\n",
              "    </tr>\n",
              "    <tr>\n",
              "      <th>5</th>\n",
              "      <td>Pine Labs</td>\n",
              "      <td>1998</td>\n",
              "      <td>Noida</td>\n",
              "      <td>Information Technology &amp; Services</td>\n",
              "      <td>Pine Labs offers a merchant platform that incl...</td>\n",
              "      <td>Amrish Rau</td>\n",
              "      <td>State Bank of India</td>\n",
              "      <td>$20,000,000</td>\n",
              "      <td>NaN</td>\n",
              "    </tr>\n",
              "    <tr>\n",
              "      <th>6</th>\n",
              "      <td>Moneyboxx</td>\n",
              "      <td>2018</td>\n",
              "      <td>Mumbai</td>\n",
              "      <td>Financial Services</td>\n",
              "      <td>A NBFC democratising access to capital to the ...</td>\n",
              "      <td>MAYUR MODI</td>\n",
              "      <td>NaN</td>\n",
              "      <td>$1,000,000</td>\n",
              "      <td>NaN</td>\n",
              "    </tr>\n",
              "    <tr>\n",
              "      <th>7</th>\n",
              "      <td>CASHe</td>\n",
              "      <td>2016</td>\n",
              "      <td>Mumbai</td>\n",
              "      <td>Financial Services</td>\n",
              "      <td>CASHe is a credit-enabled financial technology...</td>\n",
              "      <td>Raman</td>\n",
              "      <td>TSLC</td>\n",
              "      <td>$10,000,000</td>\n",
              "      <td>NaN</td>\n",
              "    </tr>\n",
              "    <tr>\n",
              "      <th>8</th>\n",
              "      <td>iD Fresh Foods</td>\n",
              "      <td>2006</td>\n",
              "      <td>Bangalore</td>\n",
              "      <td>Food Production</td>\n",
              "      <td>iD Fresh Food is professional assistant in the...</td>\n",
              "      <td>PC Musthafa, Abdul Naser</td>\n",
              "      <td>NewQuest Capital Partner</td>\n",
              "      <td>$60,000,000</td>\n",
              "      <td>Series D</td>\n",
              "    </tr>\n",
              "    <tr>\n",
              "      <th>9</th>\n",
              "      <td>Freecultr</td>\n",
              "      <td>2020</td>\n",
              "      <td>New Delhi</td>\n",
              "      <td>Apparel &amp; Fashion</td>\n",
              "      <td>FREECULTR is an inner, sleep, lounge and activ...</td>\n",
              "      <td>Shrey Luthra, Harshit Vij</td>\n",
              "      <td>Sixth Sense Ventures</td>\n",
              "      <td>$5,000,000</td>\n",
              "      <td>Series</td>\n",
              "    </tr>\n",
              "  </tbody>\n",
              "</table>\n",
              "</div>\n",
              "      <button class=\"colab-df-convert\" onclick=\"convertToInteractive('df-22f506fc-07eb-4a63-aa9c-b649ac78de0d')\"\n",
              "              title=\"Convert this dataframe to an interactive table.\"\n",
              "              style=\"display:none;\">\n",
              "        \n",
              "  <svg xmlns=\"http://www.w3.org/2000/svg\" height=\"24px\"viewBox=\"0 0 24 24\"\n",
              "       width=\"24px\">\n",
              "    <path d=\"M0 0h24v24H0V0z\" fill=\"none\"/>\n",
              "    <path d=\"M18.56 5.44l.94 2.06.94-2.06 2.06-.94-2.06-.94-.94-2.06-.94 2.06-2.06.94zm-11 1L8.5 8.5l.94-2.06 2.06-.94-2.06-.94L8.5 2.5l-.94 2.06-2.06.94zm10 10l.94 2.06.94-2.06 2.06-.94-2.06-.94-.94-2.06-.94 2.06-2.06.94z\"/><path d=\"M17.41 7.96l-1.37-1.37c-.4-.4-.92-.59-1.43-.59-.52 0-1.04.2-1.43.59L10.3 9.45l-7.72 7.72c-.78.78-.78 2.05 0 2.83L4 21.41c.39.39.9.59 1.41.59.51 0 1.02-.2 1.41-.59l7.78-7.78 2.81-2.81c.8-.78.8-2.07 0-2.86zM5.41 20L4 18.59l7.72-7.72 1.47 1.35L5.41 20z\"/>\n",
              "  </svg>\n",
              "      </button>\n",
              "      \n",
              "  <style>\n",
              "    .colab-df-container {\n",
              "      display:flex;\n",
              "      flex-wrap:wrap;\n",
              "      gap: 12px;\n",
              "    }\n",
              "\n",
              "    .colab-df-convert {\n",
              "      background-color: #E8F0FE;\n",
              "      border: none;\n",
              "      border-radius: 50%;\n",
              "      cursor: pointer;\n",
              "      display: none;\n",
              "      fill: #1967D2;\n",
              "      height: 32px;\n",
              "      padding: 0 0 0 0;\n",
              "      width: 32px;\n",
              "    }\n",
              "\n",
              "    .colab-df-convert:hover {\n",
              "      background-color: #E2EBFA;\n",
              "      box-shadow: 0px 1px 2px rgba(60, 64, 67, 0.3), 0px 1px 3px 1px rgba(60, 64, 67, 0.15);\n",
              "      fill: #174EA6;\n",
              "    }\n",
              "\n",
              "    [theme=dark] .colab-df-convert {\n",
              "      background-color: #3B4455;\n",
              "      fill: #D2E3FC;\n",
              "    }\n",
              "\n",
              "    [theme=dark] .colab-df-convert:hover {\n",
              "      background-color: #434B5C;\n",
              "      box-shadow: 0px 1px 3px 1px rgba(0, 0, 0, 0.15);\n",
              "      filter: drop-shadow(0px 1px 2px rgba(0, 0, 0, 0.3));\n",
              "      fill: #FFFFFF;\n",
              "    }\n",
              "  </style>\n",
              "\n",
              "      <script>\n",
              "        const buttonEl =\n",
              "          document.querySelector('#df-22f506fc-07eb-4a63-aa9c-b649ac78de0d button.colab-df-convert');\n",
              "        buttonEl.style.display =\n",
              "          google.colab.kernel.accessAllowed ? 'block' : 'none';\n",
              "\n",
              "        async function convertToInteractive(key) {\n",
              "          const element = document.querySelector('#df-22f506fc-07eb-4a63-aa9c-b649ac78de0d');\n",
              "          const dataTable =\n",
              "            await google.colab.kernel.invokeFunction('convertToInteractive',\n",
              "                                                     [key], {});\n",
              "          if (!dataTable) return;\n",
              "\n",
              "          const docLinkHtml = 'Like what you see? Visit the ' +\n",
              "            '<a target=\"_blank\" href=https://colab.research.google.com/notebooks/data_table.ipynb>data table notebook</a>'\n",
              "            + ' to learn more about interactive tables.';\n",
              "          element.innerHTML = '';\n",
              "          dataTable['output_type'] = 'display_data';\n",
              "          await google.colab.output.renderOutput(dataTable, element);\n",
              "          const docLink = document.createElement('div');\n",
              "          docLink.innerHTML = docLinkHtml;\n",
              "          element.appendChild(docLink);\n",
              "        }\n",
              "      </script>\n",
              "    </div>\n",
              "  </div>\n",
              "  "
            ]
          },
          "metadata": {},
          "execution_count": 12
        }
      ]
    },
    {
      "cell_type": "code",
      "source": [
        "df.shape"
      ],
      "metadata": {
        "colab": {
          "base_uri": "https://localhost:8080/"
        },
        "id": "fghlkF1aw2Iu",
        "outputId": "b8a5ae2c-0856-4003-c516-4b73f2da5ab5"
      },
      "execution_count": 14,
      "outputs": [
        {
          "output_type": "execute_result",
          "data": {
            "text/plain": [
              "(115, 9)"
            ]
          },
          "metadata": {},
          "execution_count": 14
        }
      ]
    },
    {
      "cell_type": "code",
      "source": [
        "df.info()"
      ],
      "metadata": {
        "colab": {
          "base_uri": "https://localhost:8080/"
        },
        "id": "LWOLIe7zxLFd",
        "outputId": "3ca028f6-22ce-4fc0-8b92-85f9d2532eba"
      },
      "execution_count": 15,
      "outputs": [
        {
          "output_type": "stream",
          "name": "stdout",
          "text": [
            "<class 'pandas.core.frame.DataFrame'>\n",
            "RangeIndex: 115 entries, 0 to 114\n",
            "Data columns (total 9 columns):\n",
            " #   Column        Non-Null Count  Dtype \n",
            "---  ------        --------------  ----- \n",
            " 0   Company Name  115 non-null    object\n",
            " 1   Founded       115 non-null    int64 \n",
            " 2   Location      115 non-null    object\n",
            " 3   Sector        115 non-null    object\n",
            " 4   What it does  115 non-null    object\n",
            " 5   Founders      115 non-null    object\n",
            " 6   Investor      110 non-null    object\n",
            " 7   Amount        115 non-null    object\n",
            " 8   Stage         72 non-null     object\n",
            "dtypes: int64(1), object(8)\n",
            "memory usage: 8.2+ KB\n"
          ]
        }
      ]
    },
    {
      "cell_type": "code",
      "source": [
        "#missing data values (NaN)\n",
        "df.isnull().sum()"
      ],
      "metadata": {
        "colab": {
          "base_uri": "https://localhost:8080/"
        },
        "id": "_8x_zRv7xNLt",
        "outputId": "b3759d21-2bf7-4459-8994-6d175c56265d"
      },
      "execution_count": 16,
      "outputs": [
        {
          "output_type": "execute_result",
          "data": {
            "text/plain": [
              "Company Name     0\n",
              "Founded          0\n",
              "Location         0\n",
              "Sector           0\n",
              "What it does     0\n",
              "Founders         0\n",
              "Investor         5\n",
              "Amount           0\n",
              "Stage           43\n",
              "dtype: int64"
            ]
          },
          "metadata": {},
          "execution_count": 16
        }
      ]
    },
    {
      "cell_type": "code",
      "source": [
        "#get most common sectors\n",
        "df.Sector.value_counts().head(10)"
      ],
      "metadata": {
        "colab": {
          "base_uri": "https://localhost:8080/"
        },
        "id": "bP3WEZsqxbQs",
        "outputId": "afa24b4e-52b3-4712-e8e6-7a30e7b05016"
      },
      "execution_count": 17,
      "outputs": [
        {
          "output_type": "execute_result",
          "data": {
            "text/plain": [
              "Financial Services                   24\n",
              "Information Technology & Services    12\n",
              "Computer Software                    11\n",
              "Health, Wellness & Fitness            7\n",
              "Automotive                            4\n",
              "E-learning                            4\n",
              "Food & Beverages                      3\n",
              "Apparel & Fashion                     3\n",
              "E-commerce                            3\n",
              "Hospital & Health Care                3\n",
              "Name: Sector, dtype: int64"
            ]
          },
          "metadata": {},
          "execution_count": 17
        }
      ]
    },
    {
      "cell_type": "code",
      "source": [
        "#most common types of funding\n",
        "df.Stage.value_counts().head(10)"
      ],
      "metadata": {
        "colab": {
          "base_uri": "https://localhost:8080/"
        },
        "id": "dRCNbt070ZKy",
        "outputId": "deec826e-9b0e-4759-bcd8-4cb626a5cf88"
      },
      "execution_count": 19,
      "outputs": [
        {
          "output_type": "execute_result",
          "data": {
            "text/plain": [
              "Seed                                     24\n",
              "Series A                                 19\n",
              "Pre-series A                             10\n",
              "Series B                                  7\n",
              "Series D                                  5\n",
              "Series C                                  2\n",
              "Series                                    1\n",
              "Blue Ashva Capital, Supack Industries     1\n",
              "Pre-series                                1\n",
              "Pre-seed                                  1\n",
              "Name: Stage, dtype: int64"
            ]
          },
          "metadata": {},
          "execution_count": 19
        }
      ]
    },
    {
      "cell_type": "code",
      "source": [
        "#most common location for opening a startup\n",
        "df.Location.value_counts().head(10)"
      ],
      "metadata": {
        "colab": {
          "base_uri": "https://localhost:8080/"
        },
        "id": "2HIvYbUV0lOQ",
        "outputId": "31f81488-9a15-4c3a-fc5c-fe4d1f66f81f"
      },
      "execution_count": 20,
      "outputs": [
        {
          "output_type": "execute_result",
          "data": {
            "text/plain": [
              "Bangalore     41\n",
              "Mumbai        20\n",
              "New Delhi     13\n",
              "Gurgaon       11\n",
              "Chennai       11\n",
              "Hyderabad      7\n",
              "Noida          6\n",
              "Ahmedabad      2\n",
              "Kolkata        2\n",
              "Chandigarh     1\n",
              "Name: Location, dtype: int64"
            ]
          },
          "metadata": {},
          "execution_count": 20
        }
      ]
    },
    {
      "cell_type": "code",
      "source": [
        "#Number of startups per year\n",
        "df.Founded.value_counts(bins = 10)"
      ],
      "metadata": {
        "colab": {
          "base_uri": "https://localhost:8080/"
        },
        "id": "hJMZ1RTZ02B2",
        "outputId": "b6d049a5-7d89-4d02-ea29-1df8685f92c0"
      },
      "execution_count": 21,
      "outputs": [
        {
          "output_type": "execute_result",
          "data": {
            "text/plain": [
              "(2018.7, 2021.0]      48\n",
              "(2014.1, 2016.4]      21\n",
              "(2016.4, 2018.7]      21\n",
              "(2011.8, 2014.1]      16\n",
              "(2007.2, 2009.5]       4\n",
              "(2009.5, 2011.8]       2\n",
              "(1997.976, 2000.3]     1\n",
              "(2000.3, 2002.6]       1\n",
              "(2004.9, 2007.2]       1\n",
              "(2002.6, 2004.9]       0\n",
              "Name: Founded, dtype: int64"
            ]
          },
          "metadata": {},
          "execution_count": 21
        }
      ]
    },
    {
      "cell_type": "code",
      "source": [
        "#Pie charts\n",
        "\n",
        "df['Sector'].value_counts().head(20).plot(kind = 'pie', figsize = (6,6))"
      ],
      "metadata": {
        "colab": {
          "base_uri": "https://localhost:8080/",
          "height": 374
        },
        "id": "M4lz8anc1EPs",
        "outputId": "bed21de4-be28-4b6b-f7fa-f6e1977a6fbd"
      },
      "execution_count": 22,
      "outputs": [
        {
          "output_type": "execute_result",
          "data": {
            "text/plain": [
              "<matplotlib.axes._subplots.AxesSubplot at 0x7f68e6999750>"
            ]
          },
          "metadata": {},
          "execution_count": 22
        },
        {
          "output_type": "display_data",
          "data": {
            "text/plain": [
              "<Figure size 432x432 with 1 Axes>"
            ],
            "image/png": "[encoded data removed]"
          },
          "metadata": {}
        }
      ]
    },
    {
      "cell_type": "code",
      "source": [
        "df['Stage'].value_counts().head(20).plot(kind = 'pie', figsize = (6,6))"
      ],
      "metadata": {
        "colab": {
          "base_uri": "https://localhost:8080/",
          "height": 374
        },
        "id": "EfF45BVp1fVt",
        "outputId": "142fdf2b-7984-44d6-f324-44f326628e1a"
      },
      "execution_count": 23,
      "outputs": [
        {
          "output_type": "execute_result",
          "data": {
            "text/plain": [
              "<matplotlib.axes._subplots.AxesSubplot at 0x7f68e4427d50>"
            ]
          },
          "metadata": {},
          "execution_count": 23
        },
        {
          "output_type": "display_data",
          "data": {
            "text/plain": [
              "<Figure size 432x432 with 1 Axes>"
            ],
            "image/png": "[encoded data removed]"
          },
          "metadata": {}
        }
      ]
    },
    {
      "cell_type": "code",
      "source": [
        "df['Location'].value_counts().head(20).plot(kind = 'pie', figsize = (6,6))"
      ],
      "metadata": {
        "colab": {
          "base_uri": "https://localhost:8080/",
          "height": 374
        },
        "id": "9F9TTWlt1psT",
        "outputId": "c7e76e50-6a0c-4ff9-a38a-3ae3253bb4db"
      },
      "execution_count": 24,
      "outputs": [
        {
          "output_type": "execute_result",
          "data": {
            "text/plain": [
              "<matplotlib.axes._subplots.AxesSubplot at 0x7f68e43a8bd0>"
            ]
          },
          "metadata": {},
          "execution_count": 24
        },
        {
          "output_type": "display_data",
          "data": {
            "text/plain": [
              "<Figure size 432x432 with 1 Axes>"
            ],
            "image/png": "[encoded data removed]"
          },
          "metadata": {}
        }
      ]
    },
    {
      "cell_type": "code",
      "source": [
        "#startups with more than 200M in funding\n",
        "\n",
        "df['Amount'] = df['Amount'].replace({'\\$':'', ',':''}, regex = True)\n",
        "df['Amount'] = pd.to_numeric(df['Amount'], errors = 'coerce')\n",
        "\n",
        "df[df.Amount > 200000000]"
      ],
      "metadata": {
        "colab": {
          "base_uri": "https://localhost:8080/",
          "height": 298
        },
        "id": "GR-zByd-1xr7",
        "outputId": "3fecc847-69d6-422f-e0b3-2f86d40e1364"
      },
      "execution_count": 30,
      "outputs": [
        {
          "output_type": "execute_result",
          "data": {
            "text/plain": [
              "     Company Name  Founded   Location                      Sector  \\\n",
              "14          Dunzo     2015  Bangalore                  E-commerce   \n",
              "44          HEAPS     2021  Bangalore  Health, Wellness & Fitness   \n",
              "80         Swiggy     2014  Bangalore                    FoodTech   \n",
              "99   o9 Solutions     2009  Bangalore           Computer Software   \n",
              "105       Moglix'     2015      Noida                    Software   \n",
              "\n",
              "                                          What it does  \\\n",
              "14   Dunzo is an all-in-one 24X7 delivery platform,...   \n",
              "44   HEAPS is a health tech platform and Software a...   \n",
              "80   Swiggy is Indias leading on-demand delivery p...   \n",
              "99   The knowledge powered analytics, planning and ...   \n",
              "105  An Asia-based B2B commerce company intensively...   \n",
              "\n",
              "                                              Founders  \\\n",
              "14   Kabeer Biswas, Ankur Agarwal, Dalvir Suri, Muk...   \n",
              "44                                 Dr Suman Katragadda   \n",
              "80            Sriharsha Majety, Rahul Bothra, Dale Vaz   \n",
              "99                   Sanjiv Sidhu, Chakri Gottemukkala   \n",
              "105                                         Rahul Garg   \n",
              "\n",
              "                             Investor       Amount     Stage  \n",
              "14   Reliance Retail Ventures Limited  240000000.0       NaN  \n",
              "44                NVS Wealth Managers  550000000.0  Series A  \n",
              "80                            Invesco  700000000.0       NaN  \n",
              "99    General Atlantic, BeyondNetZero  295000000.0       NaN  \n",
              "105   Tiger Global, Alpha Wave Global  250000000.0  Series F  "
            ],
            "text/html": [
              "\n",
              "  <div id=\"df-e3fd8da6-261c-4bb8-8d5d-268c266fdabc\">\n",
              "    <div class=\"colab-df-container\">\n",
              "      <div>\n",
              "<style scoped>\n",
              "    .dataframe tbody tr th:only-of-type {\n",
              "        vertical-align: middle;\n",
              "    }\n",
              "\n",
              "    .dataframe tbody tr th {\n",
              "        vertical-align: top;\n",
              "    }\n",
              "\n",
              "    .dataframe thead th {\n",
              "        text-align: right;\n",
              "    }\n",
              "</style>\n",
              "<table border=\"1\" class=\"dataframe\">\n",
              "  <thead>\n",
              "    <tr style=\"text-align: right;\">\n",
              "      <th></th>\n",
              "      <th>Company Name</th>\n",
              "      <th>Founded</th>\n",
              "      <th>Location</th>\n",
              "      <th>Sector</th>\n",
              "      <th>What it does</th>\n",
              "      <th>Founders</th>\n",
              "      <th>Investor</th>\n",
              "      <th>Amount</th>\n",
              "      <th>Stage</th>\n",
              "    </tr>\n",
              "  </thead>\n",
              "  <tbody>\n",
              "    <tr>\n",
              "      <th>14</th>\n",
              "      <td>Dunzo</td>\n",
              "      <td>2015</td>\n",
              "      <td>Bangalore</td>\n",
              "      <td>E-commerce</td>\n",
              "      <td>Dunzo is an all-in-one 24X7 delivery platform,...</td>\n",
              "      <td>Kabeer Biswas, Ankur Agarwal, Dalvir Suri, Muk...</td>\n",
              "      <td>Reliance Retail Ventures Limited</td>\n",
              "      <td>240000000.0</td>\n",
              "      <td>NaN</td>\n",
              "    </tr>\n",
              "    <tr>\n",
              "      <th>44</th>\n",
              "      <td>HEAPS</td>\n",
              "      <td>2021</td>\n",
              "      <td>Bangalore</td>\n",
              "      <td>Health, Wellness &amp; Fitness</td>\n",
              "      <td>HEAPS is a health tech platform and Software a...</td>\n",
              "      <td>Dr Suman Katragadda</td>\n",
              "      <td>NVS Wealth Managers</td>\n",
              "      <td>550000000.0</td>\n",
              "      <td>Series A</td>\n",
              "    </tr>\n",
              "    <tr>\n",
              "      <th>80</th>\n",
              "      <td>Swiggy</td>\n",
              "      <td>2014</td>\n",
              "      <td>Bangalore</td>\n",
              "      <td>FoodTech</td>\n",
              "      <td>Swiggy is Indias leading on-demand delivery p...</td>\n",
              "      <td>Sriharsha Majety, Rahul Bothra, Dale Vaz</td>\n",
              "      <td>Invesco</td>\n",
              "      <td>700000000.0</td>\n",
              "      <td>NaN</td>\n",
              "    </tr>\n",
              "    <tr>\n",
              "      <th>99</th>\n",
              "      <td>o9 Solutions</td>\n",
              "      <td>2009</td>\n",
              "      <td>Bangalore</td>\n",
              "      <td>Computer Software</td>\n",
              "      <td>The knowledge powered analytics, planning and ...</td>\n",
              "      <td>Sanjiv Sidhu, Chakri Gottemukkala</td>\n",
              "      <td>General Atlantic, BeyondNetZero</td>\n",
              "      <td>295000000.0</td>\n",
              "      <td>NaN</td>\n",
              "    </tr>\n",
              "    <tr>\n",
              "      <th>105</th>\n",
              "      <td>Moglix'</td>\n",
              "      <td>2015</td>\n",
              "      <td>Noida</td>\n",
              "      <td>Software</td>\n",
              "      <td>An Asia-based B2B commerce company intensively...</td>\n",
              "      <td>Rahul Garg</td>\n",
              "      <td>Tiger Global, Alpha Wave Global</td>\n",
              "      <td>250000000.0</td>\n",
              "      <td>Series F</td>\n",
              "    </tr>\n",
              "  </tbody>\n",
              "</table>\n",
              "</div>\n",
              "      <button class=\"colab-df-convert\" onclick=\"convertToInteractive('df-e3fd8da6-261c-4bb8-8d5d-268c266fdabc')\"\n",
              "              title=\"Convert this dataframe to an interactive table.\"\n",
              "              style=\"display:none;\">\n",
              "        \n",
              "  <svg xmlns=\"http://www.w3.org/2000/svg\" height=\"24px\"viewBox=\"0 0 24 24\"\n",
              "       width=\"24px\">\n",
              "    <path d=\"M0 0h24v24H0V0z\" fill=\"none\"/>\n",
              "    <path d=\"M18.56 5.44l.94 2.06.94-2.06 2.06-.94-2.06-.94-.94-2.06-.94 2.06-2.06.94zm-11 1L8.5 8.5l.94-2.06 2.06-.94-2.06-.94L8.5 2.5l-.94 2.06-2.06.94zm10 10l.94 2.06.94-2.06 2.06-.94-2.06-.94-.94-2.06-.94 2.06-2.06.94z\"/><path d=\"M17.41 7.96l-1.37-1.37c-.4-.4-.92-.59-1.43-.59-.52 0-1.04.2-1.43.59L10.3 9.45l-7.72 7.72c-.78.78-.78 2.05 0 2.83L4 21.41c.39.39.9.59 1.41.59.51 0 1.02-.2 1.41-.59l7.78-7.78 2.81-2.81c.8-.78.8-2.07 0-2.86zM5.41 20L4 18.59l7.72-7.72 1.47 1.35L5.41 20z\"/>\n",
              "  </svg>\n",
              "      </button>\n",
              "      \n",
              "  <style>\n",
              "    .colab-df-container {\n",
              "      display:flex;\n",
              "      flex-wrap:wrap;\n",
              "      gap: 12px;\n",
              "    }\n",
              "\n",
              "    .colab-df-convert {\n",
              "      background-color: #E8F0FE;\n",
              "      border: none;\n",
              "      border-radius: 50%;\n",
              "      cursor: pointer;\n",
              "      display: none;\n",
              "      fill: #1967D2;\n",
              "      height: 32px;\n",
              "      padding: 0 0 0 0;\n",
              "      width: 32px;\n",
              "    }\n",
              "\n",
              "    .colab-df-convert:hover {\n",
              "      background-color: #E2EBFA;\n",
              "      box-shadow: 0px 1px 2px rgba(60, 64, 67, 0.3), 0px 1px 3px 1px rgba(60, 64, 67, 0.15);\n",
              "      fill: #174EA6;\n",
              "    }\n",
              "\n",
              "    [theme=dark] .colab-df-convert {\n",
              "      background-color: #3B4455;\n",
              "      fill: #D2E3FC;\n",
              "    }\n",
              "\n",
              "    [theme=dark] .colab-df-convert:hover {\n",
              "      background-color: #434B5C;\n",
              "      box-shadow: 0px 1px 3px 1px rgba(0, 0, 0, 0.15);\n",
              "      filter: drop-shadow(0px 1px 2px rgba(0, 0, 0, 0.3));\n",
              "      fill: #FFFFFF;\n",
              "    }\n",
              "  </style>\n",
              "\n",
              "      <script>\n",
              "        const buttonEl =\n",
              "          document.querySelector('#df-e3fd8da6-261c-4bb8-8d5d-268c266fdabc button.colab-df-convert');\n",
              "        buttonEl.style.display =\n",
              "          google.colab.kernel.accessAllowed ? 'block' : 'none';\n",
              "\n",
              "        async function convertToInteractive(key) {\n",
              "          const element = document.querySelector('#df-e3fd8da6-261c-4bb8-8d5d-268c266fdabc');\n",
              "          const dataTable =\n",
              "            await google.colab.kernel.invokeFunction('convertToInteractive',\n",
              "                                                     [key], {});\n",
              "          if (!dataTable) return;\n",
              "\n",
              "          const docLinkHtml = 'Like what you see? Visit the ' +\n",
              "            '<a target=\"_blank\" href=https://colab.research.google.com/notebooks/data_table.ipynb>data table notebook</a>'\n",
              "            + ' to learn more about interactive tables.';\n",
              "          element.innerHTML = '';\n",
              "          dataTable['output_type'] = 'display_data';\n",
              "          await google.colab.output.renderOutput(dataTable, element);\n",
              "          const docLink = document.createElement('div');\n",
              "          docLink.innerHTML = docLinkHtml;\n",
              "          element.appendChild(docLink);\n",
              "        }\n",
              "      </script>\n",
              "    </div>\n",
              "  </div>\n",
              "  "
            ]
          },
          "metadata": {},
          "execution_count": 30
        }
      ]
    },
    {
      "cell_type": "code",
      "source": [
        "df[df.Founded < 2007]"
      ],
      "metadata": {
        "colab": {
          "base_uri": "https://localhost:8080/",
          "height": 255
        },
        "id": "ah-1OED31_-t",
        "outputId": "43563191-6e1b-4480-8013-51d10ac48949"
      },
      "execution_count": 31,
      "outputs": [
        {
          "output_type": "execute_result",
          "data": {
            "text/plain": [
              "                 Company Name  Founded   Location  \\\n",
              "4  Innoviti Payment Solutions     2002  Bangalore   \n",
              "5                   Pine Labs     1998      Noida   \n",
              "8              iD Fresh Foods     2006  Bangalore   \n",
              "\n",
              "                              Sector  \\\n",
              "4                 Financial Services   \n",
              "5  Information Technology & Services   \n",
              "8                    Food Production   \n",
              "\n",
              "                                        What it does  \\\n",
              "4  Innoviti is Indias most exciting payments com...   \n",
              "5  Pine Labs offers a merchant platform that incl...   \n",
              "8  iD Fresh Food is professional assistant in the...   \n",
              "\n",
              "                   Founders  \\\n",
              "4            Rajeev Agrawal   \n",
              "5                Amrish Rau   \n",
              "8  PC Musthafa, Abdul Naser   \n",
              "\n",
              "                                            Investor      Amount     Stage  \n",
              "4  Trifecta Debt Fund, Patni Advisors, Bessemer V...  10000000.0       NaN  \n",
              "5                                State Bank of India  20000000.0       NaN  \n",
              "8                           NewQuest Capital Partner  60000000.0  Series D  "
            ],
            "text/html": [
              "\n",
              "  <div id=\"df-24fa91c5-f328-4a3c-90d4-781cf10476bd\">\n",
              "    <div class=\"colab-df-container\">\n",
              "      <div>\n",
              "<style scoped>\n",
              "    .dataframe tbody tr th:only-of-type {\n",
              "        vertical-align: middle;\n",
              "    }\n",
              "\n",
              "    .dataframe tbody tr th {\n",
              "        vertical-align: top;\n",
              "    }\n",
              "\n",
              "    .dataframe thead th {\n",
              "        text-align: right;\n",
              "    }\n",
              "</style>\n",
              "<table border=\"1\" class=\"dataframe\">\n",
              "  <thead>\n",
              "    <tr style=\"text-align: right;\">\n",
              "      <th></th>\n",
              "      <th>Company Name</th>\n",
              "      <th>Founded</th>\n",
              "      <th>Location</th>\n",
              "      <th>Sector</th>\n",
              "      <th>What it does</th>\n",
              "      <th>Founders</th>\n",
              "      <th>Investor</th>\n",
              "      <th>Amount</th>\n",
              "      <th>Stage</th>\n",
              "    </tr>\n",
              "  </thead>\n",
              "  <tbody>\n",
              "    <tr>\n",
              "      <th>4</th>\n",
              "      <td>Innoviti Payment Solutions</td>\n",
              "      <td>2002</td>\n",
              "      <td>Bangalore</td>\n",
              "      <td>Financial Services</td>\n",
              "      <td>Innoviti is Indias most exciting payments com...</td>\n",
              "      <td>Rajeev Agrawal</td>\n",
              "      <td>Trifecta Debt Fund, Patni Advisors, Bessemer V...</td>\n",
              "      <td>10000000.0</td>\n",
              "      <td>NaN</td>\n",
              "    </tr>\n",
              "    <tr>\n",
              "      <th>5</th>\n",
              "      <td>Pine Labs</td>\n",
              "      <td>1998</td>\n",
              "      <td>Noida</td>\n",
              "      <td>Information Technology &amp; Services</td>\n",
              "      <td>Pine Labs offers a merchant platform that incl...</td>\n",
              "      <td>Amrish Rau</td>\n",
              "      <td>State Bank of India</td>\n",
              "      <td>20000000.0</td>\n",
              "      <td>NaN</td>\n",
              "    </tr>\n",
              "    <tr>\n",
              "      <th>8</th>\n",
              "      <td>iD Fresh Foods</td>\n",
              "      <td>2006</td>\n",
              "      <td>Bangalore</td>\n",
              "      <td>Food Production</td>\n",
              "      <td>iD Fresh Food is professional assistant in the...</td>\n",
              "      <td>PC Musthafa, Abdul Naser</td>\n",
              "      <td>NewQuest Capital Partner</td>\n",
              "      <td>60000000.0</td>\n",
              "      <td>Series D</td>\n",
              "    </tr>\n",
              "  </tbody>\n",
              "</table>\n",
              "</div>\n",
              "      <button class=\"colab-df-convert\" onclick=\"convertToInteractive('df-24fa91c5-f328-4a3c-90d4-781cf10476bd')\"\n",
              "              title=\"Convert this dataframe to an interactive table.\"\n",
              "              style=\"display:none;\">\n",
              "        \n",
              "  <svg xmlns=\"http://www.w3.org/2000/svg\" height=\"24px\"viewBox=\"0 0 24 24\"\n",
              "       width=\"24px\">\n",
              "    <path d=\"M0 0h24v24H0V0z\" fill=\"none\"/>\n",
              "    <path d=\"M18.56 5.44l.94 2.06.94-2.06 2.06-.94-2.06-.94-.94-2.06-.94 2.06-2.06.94zm-11 1L8.5 8.5l.94-2.06 2.06-.94-2.06-.94L8.5 2.5l-.94 2.06-2.06.94zm10 10l.94 2.06.94-2.06 2.06-.94-2.06-.94-.94-2.06-.94 2.06-2.06.94z\"/><path d=\"M17.41 7.96l-1.37-1.37c-.4-.4-.92-.59-1.43-.59-.52 0-1.04.2-1.43.59L10.3 9.45l-7.72 7.72c-.78.78-.78 2.05 0 2.83L4 21.41c.39.39.9.59 1.41.59.51 0 1.02-.2 1.41-.59l7.78-7.78 2.81-2.81c.8-.78.8-2.07 0-2.86zM5.41 20L4 18.59l7.72-7.72 1.47 1.35L5.41 20z\"/>\n",
              "  </svg>\n",
              "      </button>\n",
              "      \n",
              "  <style>\n",
              "    .colab-df-container {\n",
              "      display:flex;\n",
              "      flex-wrap:wrap;\n",
              "      gap: 12px;\n",
              "    }\n",
              "\n",
              "    .colab-df-convert {\n",
              "      background-color: #E8F0FE;\n",
              "      border: none;\n",
              "      border-radius: 50%;\n",
              "      cursor: pointer;\n",
              "      display: none;\n",
              "      fill: #1967D2;\n",
              "      height: 32px;\n",
              "      padding: 0 0 0 0;\n",
              "      width: 32px;\n",
              "    }\n",
              "\n",
              "    .colab-df-convert:hover {\n",
              "      background-color: #E2EBFA;\n",
              "      box-shadow: 0px 1px 2px rgba(60, 64, 67, 0.3), 0px 1px 3px 1px rgba(60, 64, 67, 0.15);\n",
              "      fill: #174EA6;\n",
              "    }\n",
              "\n",
              "    [theme=dark] .colab-df-convert {\n",
              "      background-color: #3B4455;\n",
              "      fill: #D2E3FC;\n",
              "    }\n",
              "\n",
              "    [theme=dark] .colab-df-convert:hover {\n",
              "      background-color: #434B5C;\n",
              "      box-shadow: 0px 1px 3px 1px rgba(0, 0, 0, 0.15);\n",
              "      filter: drop-shadow(0px 1px 2px rgba(0, 0, 0, 0.3));\n",
              "      fill: #FFFFFF;\n",
              "    }\n",
              "  </style>\n",
              "\n",
              "      <script>\n",
              "        const buttonEl =\n",
              "          document.querySelector('#df-24fa91c5-f328-4a3c-90d4-781cf10476bd button.colab-df-convert');\n",
              "        buttonEl.style.display =\n",
              "          google.colab.kernel.accessAllowed ? 'block' : 'none';\n",
              "\n",
              "        async function convertToInteractive(key) {\n",
              "          const element = document.querySelector('#df-24fa91c5-f328-4a3c-90d4-781cf10476bd');\n",
              "          const dataTable =\n",
              "            await google.colab.kernel.invokeFunction('convertToInteractive',\n",
              "                                                     [key], {});\n",
              "          if (!dataTable) return;\n",
              "\n",
              "          const docLinkHtml = 'Like what you see? Visit the ' +\n",
              "            '<a target=\"_blank\" href=https://colab.research.google.com/notebooks/data_table.ipynb>data table notebook</a>'\n",
              "            + ' to learn more about interactive tables.';\n",
              "          element.innerHTML = '';\n",
              "          dataTable['output_type'] = 'display_data';\n",
              "          await google.colab.output.renderOutput(dataTable, element);\n",
              "          const docLink = document.createElement('div');\n",
              "          docLink.innerHTML = docLinkHtml;\n",
              "          element.appendChild(docLink);\n",
              "        }\n",
              "      </script>\n",
              "    </div>\n",
              "  </div>\n",
              "  "
            ]
          },
          "metadata": {},
          "execution_count": 31
        }
      ]
    },
    {
      "cell_type": "code",
      "source": [
        "#Funding per region\n",
        "import seaborn as sns\n",
        "\n",
        "funding_per_region = df.groupby(['Location'])['Amount'].sum().reset_index()\n",
        "funding_per_region = funding_per_region.sort_values('Amount', ascending = False)\n",
        "plt.figure(figsize = (15,8))\n",
        "sns.barplot(x = 'Amount', y = 'Location', data = funding_per_region.head(20))"
      ],
      "metadata": {
        "colab": {
          "base_uri": "https://localhost:8080/",
          "height": 514
        },
        "id": "exLgyDeZ3BRq",
        "outputId": "19fe1504-da1e-4808-eaf4-cd41fc2bea61"
      },
      "execution_count": 32,
      "outputs": [
        {
          "output_type": "execute_result",
          "data": {
            "text/plain": [
              "<matplotlib.axes._subplots.AxesSubplot at 0x7f68d5d2d150>"
            ]
          },
          "metadata": {},
          "execution_count": 32
        },
        {
          "output_type": "display_data",
          "data": {
            "text/plain": [
              "<Figure size 1080x576 with 1 Axes>"
            ],
            "image/png": "[encoded data removed]"
          },
          "metadata": {
            "needs_background": "light"
          }
        }
      ]
    },
    {
      "cell_type": "markdown",
      "source": [
        "Data visualization with W and B"
      ],
      "metadata": {
        "id": "2W1-Mi3w5Amd"
      }
    },
    {
      "cell_type": "code",
      "source": [
        "!pip install wandb -qqq"
      ],
      "metadata": {
        "colab": {
          "base_uri": "https://localhost:8080/"
        },
        "id": "Tl28JM7L4_vr",
        "outputId": "2a1ce865-1005-4c7f-b766-5495012d3a8c"
      },
      "execution_count": 34,
      "outputs": [
        {
          "output_type": "stream",
          "name": "stdout",
          "text": [
            "\u001b[K     |████████████████████████████████| 1.8 MB 9.8 MB/s \n",
            "\u001b[K     |████████████████████████████████| 181 kB 54.3 MB/s \n",
            "\u001b[K     |████████████████████████████████| 145 kB 41.3 MB/s \n",
            "\u001b[K     |████████████████████████████████| 63 kB 1.1 MB/s \n",
            "\u001b[?25h  Building wheel for pathtools (setup.py) ... \u001b[?25l\u001b[?25hdone\n"
          ]
        }
      ]
    },
    {
      "cell_type": "code",
      "source": [
        "import wandb \n",
        "\n",
        "wandb.init()\n",
        "table = wandb.Table(data = df, columns = [\"Location\", \"Amount\"])\n",
        "wandb.log({'Bar chart': wandb.plot.bar(table, \"Location\",\"Amount\", title = 'Location Vs Funding bar chart')})"
      ],
      "metadata": {
        "colab": {
          "base_uri": "https://localhost:8080/",
          "height": 173,
          "referenced_widgets": [
            "3b5c531b2a3c48d6a8ec54eda69e9d66",
            "a601e47218004f4cafe6c3d8ed81174a",
            "d974a8f641b843699016719062df009f",
            "d278f2f1237844c6ba6d327b94b5aeaf",
            "b47440c9af114177a509523f8316a8f4",
            "1d5084d354a94edc87e5ae495922f7b1",
            "8dd58639964e4f0d9c42e290224f9187",
            "9638a0f9645c45e4bdf8596180d5e394"
          ]
        },
        "id": "hL-QCi4s4OyL",
        "outputId": "0a70e692-e62d-4c3b-d035-7e511291fd31"
      },
      "execution_count": 40,
      "outputs": [
        {
          "output_type": "display_data",
          "data": {
            "text/plain": [
              "<IPython.core.display.HTML object>"
            ],
            "text/html": [
              "Finishing last run (ID:5ka1oray) before initializing another..."
            ]
          },
          "metadata": {}
        },
        {
          "output_type": "display_data",
          "data": {
            "text/plain": [
              "<IPython.core.display.HTML object>"
            ],
            "text/html": [
              "Waiting for W&B process to finish... <strong style=\"color:green\">(success).</strong>"
            ]
          },
          "metadata": {}
        },
        {
          "output_type": "display_data",
          "data": {
            "text/plain": [
              "VBox(children=(Label(value='0.001 MB of 0.001 MB uploaded (0.000 MB deduped)\\r'), FloatProgress(value=1.0, max…"
            ],
            "application/vnd.jupyter.widget-view+json": {
              "version_major": 2,
              "version_minor": 0,
              "model_id": "3b5c531b2a3c48d6a8ec54eda69e9d66"
            }
          },
          "metadata": {}
        },
        {
          "output_type": "display_data",
          "data": {
            "text/plain": [
              "<IPython.core.display.HTML object>"
            ],
            "text/html": [
              "Synced <strong style=\"color:#cdcd00\">deep-eon-5</strong>: <a href=\"https://wandb.ai/aashi/uncategorized/runs/5ka1oray\" target=\"_blank\">https://wandb.ai/aashi/uncategorized/runs/5ka1oray</a><br/>Synced 4 W&B file(s), 0 media file(s), 0 artifact file(s) and 0 other file(s)"
            ]
          },
          "metadata": {}
        },
        {
          "output_type": "display_data",
          "data": {
            "text/plain": [
              "<IPython.core.display.HTML object>"
            ],
            "text/html": [
              "Find logs at: <code>./wandb/run-20220625_033145-5ka1oray/logs</code>"
            ]
          },
          "metadata": {}
        },
        {
          "output_type": "display_data",
          "data": {
            "text/plain": [
              "<IPython.core.display.HTML object>"
            ],
            "text/html": [
              "Successfully finished last run (ID:5ka1oray). Initializing new run:<br/>"
            ]
          },
          "metadata": {}
        },
        {
          "output_type": "display_data",
          "data": {
            "text/plain": [
              "<IPython.core.display.HTML object>"
            ],
            "text/html": [
              "Tracking run with wandb version 0.12.19"
            ]
          },
          "metadata": {}
        },
        {
          "output_type": "display_data",
          "data": {
            "text/plain": [
              "<IPython.core.display.HTML object>"
            ],
            "text/html": [
              "Run data is saved locally in <code>/content/wandb/run-20220625_033300-36i4wq7n</code>"
            ]
          },
          "metadata": {}
        },
        {
          "output_type": "display_data",
          "data": {
            "text/plain": [
              "<IPython.core.display.HTML object>"
            ],
            "text/html": [
              "Syncing run <strong><a href=\"https://wandb.ai/aashi/uncategorized/runs/36i4wq7n\" target=\"_blank\">classic-bee-6</a></strong> to <a href=\"https://wandb.ai/aashi/uncategorized\" target=\"_blank\">Weights & Biases</a> (<a href=\"https://wandb.me/run\" target=\"_blank\">docs</a>)<br/>"
            ]
          },
          "metadata": {}
        }
      ]
    },
    {
      "cell_type": "code",
      "source": [
        "wandb.init()\n",
        "table = wandb.Table(data = funding_per_region.head(20), columns = [\"Location\", \"Amount\"])\n",
        "wandb.log({'Bar chart': wandb.plot.bar(table, \"Location\",\"Amount\", title = 'Location Vs Funding bar chart')})"
      ],
      "metadata": {
        "colab": {
          "base_uri": "https://localhost:8080/",
          "height": 173,
          "referenced_widgets": [
            "6bab27129ba54c14aaed5c687eda0327",
            "ac1632fcbb38477aa9dff7c1381fe143",
            "103a17dc5b4c458689255e4f255c314b",
            "635046961e0442a99e5c0b3b5cecdf45",
            "4ec0ca0c60f640e5a113c5fcdb845c48",
            "8ebf23cfe2f3458686981df093597912",
            "c47e906baf8b432c97d7490117e4803e",
            "d562162e69c7465ea2066f5492f487fc"
          ]
        },
        "id": "VAWl-nEI-o0S",
        "outputId": "91469437-3692-4d86-c445-4d788ba59dc1"
      },
      "execution_count": 46,
      "outputs": [
        {
          "output_type": "display_data",
          "data": {
            "text/plain": [
              "<IPython.core.display.HTML object>"
            ],
            "text/html": [
              "Finishing last run (ID:36i4wq7n) before initializing another..."
            ]
          },
          "metadata": {}
        },
        {
          "output_type": "display_data",
          "data": {
            "text/plain": [
              "<IPython.core.display.HTML object>"
            ],
            "text/html": [
              "Waiting for W&B process to finish... <strong style=\"color:green\">(success).</strong>"
            ]
          },
          "metadata": {}
        },
        {
          "output_type": "display_data",
          "data": {
            "text/plain": [
              "VBox(children=(Label(value='0.057 MB of 0.057 MB uploaded (0.000 MB deduped)\\r'), FloatProgress(value=1.0, max…"
            ],
            "application/vnd.jupyter.widget-view+json": {
              "version_major": 2,
              "version_minor": 0,
              "model_id": "6bab27129ba54c14aaed5c687eda0327"
            }
          },
          "metadata": {}
        },
        {
          "output_type": "display_data",
          "data": {
            "text/plain": [
              "<IPython.core.display.HTML object>"
            ],
            "text/html": [
              "Synced <strong style=\"color:#cdcd00\">classic-bee-6</strong>: <a href=\"https://wandb.ai/aashi/uncategorized/runs/36i4wq7n\" target=\"_blank\">https://wandb.ai/aashi/uncategorized/runs/36i4wq7n</a><br/>Synced 4 W&B file(s), 2 media file(s), 2 artifact file(s) and 0 other file(s)"
            ]
          },
          "metadata": {}
        },
        {
          "output_type": "display_data",
          "data": {
            "text/plain": [
              "<IPython.core.display.HTML object>"
            ],
            "text/html": [
              "Find logs at: <code>./wandb/run-20220625_033300-36i4wq7n/logs</code>"
            ]
          },
          "metadata": {}
        },
        {
          "output_type": "display_data",
          "data": {
            "text/plain": [
              "<IPython.core.display.HTML object>"
            ],
            "text/html": [
              "Successfully finished last run (ID:36i4wq7n). Initializing new run:<br/>"
            ]
          },
          "metadata": {}
        },
        {
          "output_type": "display_data",
          "data": {
            "text/plain": [
              "<IPython.core.display.HTML object>"
            ],
            "text/html": [
              "Tracking run with wandb version 0.12.19"
            ]
          },
          "metadata": {}
        },
        {
          "output_type": "display_data",
          "data": {
            "text/plain": [
              "<IPython.core.display.HTML object>"
            ],
            "text/html": [
              "Run data is saved locally in <code>/content/wandb/run-20220625_040446-1oy4d3uv</code>"
            ]
          },
          "metadata": {}
        },
        {
          "output_type": "display_data",
          "data": {
            "text/plain": [
              "<IPython.core.display.HTML object>"
            ],
            "text/html": [
              "Syncing run <strong><a href=\"https://wandb.ai/aashi/uncategorized/runs/1oy4d3uv\" target=\"_blank\">still-feather-7</a></strong> to <a href=\"https://wandb.ai/aashi/uncategorized\" target=\"_blank\">Weights & Biases</a> (<a href=\"https://wandb.me/run\" target=\"_blank\">docs</a>)<br/>"
            ]
          },
          "metadata": {}
        }
      ]
    },
    {
      "cell_type": "code",
      "source": [
        ""
      ],
      "metadata": {
        "id": "KJRvDPdsB0ea"
      },
      "execution_count": null,
      "outputs": []
    }
  ]
}